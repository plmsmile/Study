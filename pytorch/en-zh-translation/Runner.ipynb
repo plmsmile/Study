{
 "cells": [
  {
   "cell_type": "code",
   "execution_count": 1,
   "metadata": {},
   "outputs": [],
   "source": [
    "from __future__ import print_function\n",
    "import time\n",
    "import torch\n",
    "import torch.optim as optim\n",
    "\n",
    "import data_helper as dh\n",
    "from data_helper import get_variable\n",
    "from model import *\n",
    "from masked_cross_entropy import *\n",
    "import show as sh\n",
    "\n",
    "\n",
    "import train_helper as th\n",
    "\n",
    "import matplotlib.pyplot as plt\n",
    "import matplotlib.ticker as ticker\n",
    "import numpy as np\n",
    "%matplotlib inline"
   ]
  },
  {
   "cell_type": "code",
   "execution_count": 7,
   "metadata": {},
   "outputs": [
    {
     "name": "stdout",
     "output_type": "stream",
     "text": [
      "./data/seg_en_100000: read 20000\n",
      "./data/seg_zh_100000: read 20000\n",
      "12187 18197\n"
     ]
    }
   ],
   "source": [
    "data_dir = './data'\n",
    "en_file = \"{}/{}\".format(data_dir, \"seg_en_100000\")\n",
    "zh_file = \"{}/{}\".format(data_dir, \"seg_zh_100000\")\n",
    "TARGET_MAX_LEN = 25\n",
    "USE_CUDA = False\n",
    "pairs, input_lang, target_lang = dh.read_data(en_file, zh_file, 20000)\n",
    "print (input_lang.n_words, target_lang.n_words)"
   ]
  },
  {
   "cell_type": "code",
   "execution_count": 8,
   "metadata": {},
   "outputs": [
    {
     "name": "stdout",
     "output_type": "stream",
     "text": [
      "keep words: 5762 / 12187 = 0.473\n"
     ]
    }
   ],
   "source": [
    "# 去掉出现1次的英文单词\n",
    "input_lang.trim(2)"
   ]
  },
  {
   "cell_type": "code",
   "execution_count": 9,
   "metadata": {},
   "outputs": [
    {
     "name": "stdout",
     "output_type": "stream",
     "text": [
      "keep: 14848 / 20000 = 0.742\n"
     ]
    }
   ],
   "source": [
    "# 去掉包含英文单词出现次数=1的pair\n",
    "pairs = dh.remove_pairs(pairs, 0, lang=input_lang)"
   ]
  },
  {
   "cell_type": "code",
   "execution_count": 15,
   "metadata": {},
   "outputs": [
    {
     "name": "stdout",
     "output_type": "stream",
     "text": [
      "EncoderRNN (\n",
      "  (embedding): Embedding(5765, 500)\n",
      "  (gru): GRU(500, 500, num_layers=2, dropout=0.1)\n",
      ")\n",
      "AttnDecoderRNN (\n",
      "  (embedding): Embedding(18197, 500)\n",
      "  (embedding_dropout): Dropout (p = 0.1)\n",
      "  (gru): GRU(500, 500, num_layers=2, dropout=0.1)\n",
      "  (concat): Linear (1000 -> 500)\n",
      "  (out): Linear (500 -> 18197)\n",
      "  (attn): Attn (\n",
      "    (attn): Linear (500 -> 500)\n",
      "  )\n",
      ")\n"
     ]
    }
   ],
   "source": [
    "# 模型配置\n",
    "encoder_bidir = False\n",
    "score_method = 'general'\n",
    "hidden_size = 500\n",
    "n_layers = 2\n",
    "dropout_p = 0.1\n",
    "\n",
    "# 优化配置\n",
    "clip = 50.0\n",
    "teacher_forcing_ratio = 0.5\n",
    "learning_rate = 0.0001\n",
    "decoder_learning_ratio = 5.0\n",
    "\n",
    "# 训练配置\n",
    "# n_epochs = 50000\n",
    "# epoch = 0\n",
    "# plot_every = 20\n",
    "# print_every = 100\n",
    "# evaluate_every = 1000\n",
    "n_epochs = 1000\n",
    "epoch = 0\n",
    "plot_every = 20\n",
    "print_every = 10\n",
    "evaluate_every = 500\n",
    "save_every = 1000\n",
    "model_dir = './models/1017'\n",
    "batch_size = 50\n",
    "\n",
    "train_conf = {'clip': clip, 'teacher_forcing_ratio': teacher_forcing_ratio}\n",
    "\n",
    "# 初始化模型\n",
    "encoder = EncoderRNN(input_lang.n_words, hidden_size, n_layers=n_layers, \n",
    "                     dropout_p=dropout_p, bidir=encoder_bidir)\n",
    "decoder = AttnDecoderRNN(hidden_size, target_lang.n_words, score_method=score_method, \n",
    "                         n_layers=n_layers, dropout_p=dropout_p)\n",
    "\n",
    "# 优化器和loss\n",
    "encoder_optimizer = optim.Adam(encoder.parameters(), lr=learning_rate)\n",
    "decoder_optimizer = optim.Adam(decoder.parameters(), lr=learning_rate * decoder_learning_ratio)\n",
    "# criterion = nn.CrossEntropyLoss()\n",
    "\n",
    "# Move models to GPU\n",
    "if USE_CUDA:\n",
    "    encoder.cuda()\n",
    "    decoder.cuda()\n",
    "\n",
    "print (encoder)\n",
    "print (decoder)\n",
    "\n",
    "start = time.time()\n",
    "plot_losses = []\n",
    "print_loss_total = 0\n",
    "plot_loss_total = 0"
   ]
  },
  {
   "cell_type": "code",
   "execution_count": null,
   "metadata": {},
   "outputs": [
    {
     "name": "stdout",
     "output_type": "stream",
     "text": [
      "5m 7s (- 506m 37s) (10 1%) 8.6112\n",
      "9m 17s (- 455m 39s) (20 2%) 6.4452\n",
      "12m 26s (- 402m 4s) (30 3%) 6.1788\n",
      "15m 43s (- 377m 20s) (40 4%) 6.0823\n",
      "19m 21s (- 367m 49s) (50 5%) 5.9394\n",
      "22m 38s (- 354m 40s) (60 6%) 5.8474\n",
      "26m 20s (- 349m 56s) (70 7%) 5.7475\n",
      "30m 5s (- 346m 8s) (80 8%) 5.7462\n",
      "36m 52s (- 331m 55s) (100 10%) 5.5919\n",
      "41m 4s (- 332m 22s) (110 11%) 5.5926\n",
      "45m 6s (- 330m 50s) (120 12%) 5.5923\n",
      "50m 31s (- 338m 10s) (130 13%) 5.5779\n",
      "57m 27s (- 352m 55s) (140 14%) 5.4733\n",
      "63m 18s (- 358m 45s) (150 15%) 5.4597\n",
      "69m 6s (- 362m 47s) (160 16%) 5.3702\n",
      "76m 31s (- 373m 37s) (170 17%) 5.4695\n",
      "81m 56s (- 373m 16s) (180 18%) 5.3498\n",
      "88m 52s (- 378m 55s) (190 19%) 5.4029\n",
      "95m 1s (- 380m 6s) (200 20%) 5.3448\n",
      "101m 11s (- 380m 38s) (210 21%) 5.3765\n",
      "104m 45s (- 371m 25s) (220 22%) 5.2361\n",
      "108m 55s (- 364m 38s) (230 23%) 5.1857\n",
      "112m 0s (- 354m 41s) (240 24%) 5.1633\n",
      "116m 8s (- 348m 25s) (250 25%) 5.2061\n",
      "119m 50s (- 341m 6s) (260 26%) 5.1115\n",
      "126m 13s (- 341m 15s) (270 27%) 5.1609\n",
      "132m 43s (- 341m 17s) (280 28%) 5.2057\n",
      "137m 55s (- 337m 39s) (290 28%) 5.0580\n"
     ]
    }
   ],
   "source": [
    "ecs = []\n",
    "dcs = []\n",
    "eca = 0\n",
    "dca = 0\n",
    "\n",
    "# vis = sh.vis\n",
    "# hostname = sh.HOSTIP\n",
    "\n",
    "while epoch < n_epochs:\n",
    "    epoch += 1\n",
    "    input_batches, input_lengths, target_batches, target_lengths = dh.random_batch(\n",
    "        batch_size, pairs, input_lang, target_lang)\n",
    "    loss, ec, dc = th.train(input_batches, input_lengths,\n",
    "                         target_batches, target_lengths, encoder, decoder,\n",
    "                         encoder_optimizer, decoder_optimizer, train_conf)\n",
    "    print_loss_total += loss\n",
    "    plot_loss_total += loss\n",
    "    eca += ec\n",
    "    dca += dc\n",
    "    #job.record(epoch, loss)\n",
    "    \n",
    "    if epoch % print_every == 0:\n",
    "        print_loss_avg = print_loss_total / print_every\n",
    "        print_loss_total = 0\n",
    "        print_summary = '%s (%d %d%%) %.4f' % (sh.time_since(start, float(epoch) / n_epochs),\n",
    "                                               epoch, epoch / n_epochs * 100, print_loss_avg)\n",
    "        print (print_summary)\n",
    "    \n",
    "    if epoch % evaluate_every == 0:\n",
    "        th.evaluate_randomly(pairs, input_lang, target_lang, encoder, decoder, False, False, False)\n",
    "    \n",
    "    if epoch % plot_every == 0:\n",
    "        plot_loss_avg = plot_loss_total / plot_every\n",
    "        plot_losses.append(plot_loss_avg)\n",
    "        plot_loss_total = 0\n",
    "    \n",
    "    if epoch % save_every == 0:\n",
    "            no = epoch / save_every\n",
    "            to = n_epochs / save_every\n",
    "            s = '{}_{}'.format(no, to)\n",
    "            torch.save(encoder, model_dir + '/' + s + 'encoder.pkl')\n",
    "            torch.save(encoder, model_dir + '/' + s + 'decoder.pkl')\n",
    "            print ('epoch=%d saved model' % epoch)"
   ]
  },
  {
   "cell_type": "code",
   "execution_count": 2,
   "metadata": {},
   "outputs": [
    {
     "data": {
      "image/png": "[encoded data removed]",
      "text/plain": [
       "<matplotlib.figure.Figure at 0x7f6309b52ba8>"
      ]
     },
     "metadata": {},
     "output_type": "display_data"
    }
   ],
   "source": [
    "def show_attention(input_sentence, output_words, attentions, target_sentence=None):\n",
    "    ''' axis=0 y 垂直, axis=1 x水平\n",
    "    Args:\n",
    "        attentions: [t, s]\n",
    "    '''\n",
    "    fig = plt.figure()\n",
    "    ax = fig.add_subplot(111)\n",
    "    # [s, t] < [t, s]\n",
    "    print ('before:', attentions.size())\n",
    "    # attentions = attentions.transpose(0, 1).numpy()\n",
    "    print ('after:', attentions.size())\n",
    "    cax = ax.matshow(attentions.numpy(), cmap='bone')\n",
    "    fig.colorbar(cax)\n",
    "\n",
    "    # Set up axes\n",
    "    xlabels = [''] + input_sentence.split(' ') + ['<EOS>']\n",
    "    ylabels = [''] + output_words\n",
    "    print (len(xlabels), len(ylabels))\n",
    "    ax.set_xticklabels(xlabels, rotation=90)\n",
    "    ax.set_yticklabels(ylabels)\n",
    "\n",
    "    # Show label at every tick\n",
    "    ax.xaxis.set_major_locator(ticker.MultipleLocator(1))\n",
    "    ax.yaxis.set_major_locator(ticker.MultipleLocator(1))\n",
    "\n",
    "    plt.show()\n",
    "    plt.close()\n",
    "\n",
    "def test_plot():\n",
    "    '''\n",
    "     axis=0 y 垂直, axis=1 x水平\n",
    "    '''\n",
    "    fig = plt.figure()\n",
    "    plt.rcParams['font.sans-serif']=['simhei'] #用来正常显示中文标签\n",
    "    plt.rcParams['axes.unicode_minus']=False #用来正常显示负号\n",
    "    #matplotlib.rcParams['axes.unicode_minus'] = False   #-号为方块问题\n",
    "    ax = fig.add_subplot(111)\n",
    "    content = torch.randn(10, 7)\n",
    "    cax = ax.matshow(content.numpy())\n",
    "    fig.colorbar(cax)\n",
    "    xlabels = ['你好'] * (content.size(1) + 1)\n",
    "    ylabels = [''] * (content.size(0) + 1)\n",
    "    # axes x-0真实的，y-1预测的\n",
    "    ax.set_xticklabels(xlabels, rotation=90)\n",
    "    ax.set_yticklabels(ylabels)\n",
    "\n",
    "    # force label at every tick，否则只会隔几个显示一下\n",
    "    ax.yaxis.set_major_locator(ticker.MultipleLocator(1))\n",
    "    ax.xaxis.set_major_locator(ticker.MultipleLocator(1))\n",
    "\n",
    "    plt.show()\n",
    "\n",
    "test_plot()"
   ]
  },
  {
   "cell_type": "code",
   "execution_count": 6,
   "metadata": {},
   "outputs": [
    {
     "name": "stderr",
     "output_type": "stream",
     "text": [
      "/home/plm/anaconda3/lib/python3.6/site-packages/torch/tensor.py:297: UserWarning: other is not broadcastable to self, but they have the same number of elements.  Falling back to deprecated pointwise behavior.\n",
      "  return self.add_(other)\n"
     ]
    },
    {
     "name": "stdout",
     "output_type": "stream",
     "text": [
      "input_length:8, di=24, size=torch.Size([25, 8])\n",
      "a devoted husband , loving father ,\n",
      "['炮火', '杜绝', '杜绝', '杜绝', '界线', '界线', '炮火', '胡说', '挡', '恐龙蛋', '恐龙蛋', '恐龙蛋', '恐龙蛋', '恐龙蛋', '恐龙蛋', '收手', '恐龙蛋', '恐龙蛋', '恐龙蛋', '收手', '杜绝', '杜绝', '侦察', '侦察', '炮火']\n",
      "torch.Size([25, 8])\n",
      "before: torch.Size([25, 8])\n",
      "after: torch.Size([25, 8])\n",
      "9 26\n"
     ]
    },
    {
     "data": {
      "image/png": "[encoded data removed]",
      "text/plain": [
       "<matplotlib.figure.Figure at 0x7f630981dfd0>"
      ]
     },
     "metadata": {},
     "output_type": "display_data"
    }
   ],
   "source": [
    "# test show attention\n",
    "[input_sentence, target_sentence] = random.choice(pairs)\n",
    "\n",
    "# th.evaluate_sentence(input_sentence, input_lang, target_lang,\n",
    "#                   encoder, decoder, target_sentence=target_sentence, True, True, False)\n",
    "output_words, attentions = th.evaluate(input_sentence, input_lang, target_lang, \n",
    "                                       encoder, decoder)\n",
    "print (input_sentence)\n",
    "print (output_words)\n",
    "print (attentions.size())\n",
    "show_attention(input_sentence, output_words, attentions, target_sentence)"
   ]
  }
 ],
 "metadata": {
  "kernelspec": {
   "display_name": "Python 3",
   "language": "python",
   "name": "python3"
  },
  "language_info": {
   "codemirror_mode": {
    "name": "ipython",
    "version": 3
   },
   "file_extension": ".py",
   "mimetype": "text/x-python",
   "name": "python",
   "nbconvert_exporter": "python",
   "pygments_lexer": "ipython3",
   "version": "3.6.2"
  }
 },
 "nbformat": 4,
 "nbformat_minor": 2
}
