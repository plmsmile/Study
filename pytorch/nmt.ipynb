{
 "cells": [
  {
   "cell_type": "markdown",
   "metadata": {
    "collapsed": true
   },
   "source": [
    "**神经机器翻译**\n",
    "一种简单方法：每种语言，只用几千个单词，并且使用one-hot编码"
   ]
  },
  {
   "cell_type": "code",
   "execution_count": 2,
   "metadata": {
    "collapsed": true
   },
   "outputs": [],
   "source": [
    "from __future__ import unicode_literals, print_function, division\n",
    "from io import open\n",
    "import unicodedata\n",
    "import string\n",
    "import re\n",
    "import random\n",
    "import torch\n",
    "from torch.autograd import Variable\n",
    "import torch.nn as nn\n",
    "import torch.nn.functional as F"
   ]
  },
  {
   "cell_type": "markdown",
   "metadata": {},
   "source": [
    "# 数据处理\n",
    "**配置信息**"
   ]
  },
  {
   "cell_type": "code",
   "execution_count": 17,
   "metadata": {
    "collapsed": true
   },
   "outputs": [],
   "source": [
    "use_cuda = torch.cuda.is_available()\n",
    "SOS_token = 0\n",
    "EOS_token = 1\n",
    "data_dir = 'trans_data'"
   ]
  },
  {
   "cell_type": "markdown",
   "metadata": {},
   "source": [
    "**语言类**"
   ]
  },
  {
   "cell_type": "code",
   "execution_count": 18,
   "metadata": {
    "collapsed": true
   },
   "outputs": [],
   "source": [
    "class Lang(object):\n",
    "    '''语言的类'''\n",
    "    def __init__(self, name):\n",
    "        self.name = name\n",
    "        self.word2index = {}\n",
    "        self.word2count = {}\n",
    "        self.index2word = {0: 'SOS', 1: \"EOS\"}\n",
    "        self.n_words = 2\n",
    "    \n",
    "    def add_sentence(self, sentence):\n",
    "        '''添加一句话\n",
    "        Args:\n",
    "            sentence: 话，字符串，经过处理后的\n",
    "        '''\n",
    "        for word in sentence.split( ):\n",
    "            self.add_word(word)\n",
    "    \n",
    "    def add_word(self, word):\n",
    "        '''添加一个词汇'''\n",
    "        if word not in self.word2index:\n",
    "            idx = self.n_words\n",
    "            self.word2index[word] = idx\n",
    "            self.word2count[word] = 1\n",
    "            self.index2word[idx] = word\n",
    "            self.n_words += 1\n",
    "        else:\n",
    "            self.word2count[word] += 1"
   ]
  },
  {
   "cell_type": "markdown",
   "metadata": {},
   "source": [
    "**转码和字符串归整化函数**"
   ]
  },
  {
   "cell_type": "code",
   "execution_count": 19,
   "metadata": {},
   "outputs": [
    {
     "name": "stdout",
     "output_type": "stream",
     "text": [
      "Hello %! .?!\n",
      "hello ! . ? !\n"
     ]
    }
   ],
   "source": [
    "def unicode_to_ascii(s):\n",
    "    return ''.join(\n",
    "        c for c in unicodedata.normalize('NFD', s)\n",
    "        if unicodedata.category(c) != 'Mn'\n",
    "    )\n",
    "\n",
    "def normalize_str(s):\n",
    "    '''小写化，去首尾空格，去掉特殊字符，给标点符号加上空格'''\n",
    "    s = unicode_to_ascii(s.lower().strip())\n",
    "    # 给.!? 前面加上空格\n",
    "    s = re.sub(r\"([.!?])\", r\" \\1\", s)\n",
    "    # 把非字母和.!?的字符串用空格代替\n",
    "    s = re.sub(r\"[^a-zA-Z.!?]+\", r\" \", s)\n",
    "    return s\n",
    "\n",
    "def test():\n",
    "    s = 'Hello %! .?!'\n",
    "    sn = normalize_str(s)\n",
    "    print (s)\n",
    "    print (sn)\n",
    "test()"
   ]
  },
  {
   "cell_type": "markdown",
   "metadata": {},
   "source": [
    "**读取数据**"
   ]
  },
  {
   "cell_type": "code",
   "execution_count": 20,
   "metadata": {},
   "outputs": [
    {
     "name": "stdout",
     "output_type": "stream",
     "text": [
      "142787\n"
     ]
    }
   ],
   "source": [
    "def read_lines(filename):\n",
    "    '''读取filename中的内容，一行一行，转换为ascii码'''\n",
    "    # io.open\n",
    "    lines = open(filename, encoding = 'utf-8').read().strip().split('\\n')\n",
    "    return [unicode_to_ascii(line) for line in lines]\n",
    "\n",
    "def read_langs(filename, src_name = 'en', dst_name ='french', reverse=False):\n",
    "    ''' 读取\n",
    "    Args:\n",
    "        filename: 文件的路径\n",
    "        src_name: 源语言名称\n",
    "        dst_name: 目标语言名称\n",
    "        reverse: 是否翻转\n",
    "    Returns:\n",
    "        src_lang: 输入语言的对象，只初始化了名字\n",
    "        dst_lang: 输出语言的对象，只初始化了名字\n",
    "        pairs: [[in_str1, out_str1], [i2, o2], [i3, o3], ...]\n",
    "    '''\n",
    "    lines = read_lines(filename)\n",
    "    # 每一行以'\\t'分隔两种语言\n",
    "    pairs = []\n",
    "    for i, line in enumerate(lines):\n",
    "        l, r = line.split('\\t')\n",
    "        l, r = normalize_str(l), normalize_str(r)\n",
    "        pairs.append([l, r])\n",
    "    if reverse:\n",
    "        pairs = [list(reversed(p)) for p in pairs]\n",
    "        src_lang = Lang(dst_name)\n",
    "        dst_lang = Lang(src_name)\n",
    "    else:\n",
    "        src_lang = Lang(src_name)\n",
    "        dst_lang = Lang(dst_name)\n",
    "    return src_lang, dst_lang, pairs\n",
    "filename = 'trans_data/en-french.txt'\n",
    "src_lang, dst_lang, pairs = read_langs(filename)\n",
    "print (len(pairs))"
   ]
  },
  {
   "cell_type": "code",
   "execution_count": 24,
   "metadata": {},
   "outputs": [
    {
     "name": "stdout",
     "output_type": "stream",
     "text": [
      "read 142787 lines\n",
      "remain 11182 lines\n",
      "fra 4559\n",
      "eng 2967\n",
      "[u'tu es grande .', u'you re big .']\n"
     ]
    }
   ],
   "source": [
    "# 句子长度\n",
    "MAX_LENGTH = 10\n",
    "eng_prefixes = (\n",
    "    \"i am \", \"i m \",\n",
    "    \"he is\", \"he s \",\n",
    "    \"she is\", \"she s\",\n",
    "    \"you are\", \"you re \",\n",
    "    \"we are\", \"we re \",\n",
    "    \"they are\", \"they re \"\n",
    ")\n",
    "\n",
    "def is_simple(pair, en_idx):\n",
    "    ''' 选择简单的句子\n",
    "    长度小于MAX_LENGTH。格式，英语满足上面的前缀格式\n",
    "    Args:\n",
    "        pair: [en_sentence, otherlang_sentence]\n",
    "    '''\n",
    "    src, dst = pair[0].split(' '), pair[1].split(' ')\n",
    "    return (len(src) < MAX_LENGTH and len(dst) < MAX_LENGTH \n",
    "            and pair[en_idx].startswith(eng_prefixes))\n",
    "\n",
    "\n",
    "def filter_pairs(pairs, en_idx):\n",
    "    return [p for p in pairs if is_simple(p, en_idx)]\n",
    "    \n",
    "\n",
    "def prepare_data(filename, src_name='english', dst_name='french', reverse = False):\n",
    "    ''' 准备数据\n",
    "    Args:\n",
    "        filename: 数据对的文件\n",
    "        src_name: 数据左边的语言\n",
    "        dst_name: 数据右边的语言\n",
    "        reverse: 默认(src-dst), 翻转则(dst-src)\n",
    "    Returns:\n",
    "        src_lang: 源语言 lang对象，name= src_name 或 dst_name (反转) \n",
    "        dst_lang: 目标语言 lang对象，name= dst_name 或 src_name (反转) \n",
    "        pairs: [[i1, o1], [i2, o2], [i3, o3], ...]，都是字符串格式\n",
    "    '''\n",
    "    src_lang, dst_lang, pairs = read_langs(filename, src_name, dst_name, reverse)\n",
    "    en_idx = 0 if reverse is not True else 1\n",
    "    print (\"read %s lines\" % len(pairs))\n",
    "    pairs = filter_pairs(pairs, en_idx)\n",
    "    print (\"remain %s lines\" % len(pairs))\n",
    "    for p in pairs:\n",
    "        src_lang.add_sentence(p[0])\n",
    "        dst_lang.add_sentence(p[1])\n",
    "    print (src_lang.name, src_lang.n_words)\n",
    "    print (dst_lang.name, dst_lang.n_words)\n",
    "    return src_lang, dst_lang, pairs\n",
    "\n",
    "src_lang, dst_lang, pairs = prepare_data(filename, 'eng', 'fra', True)\n",
    "print (random.choice(pairs))"
   ]
  },
  {
   "cell_type": "markdown",
   "metadata": {},
   "source": [
    "# 网络结构\n",
    "**Encoder网络**"
   ]
  },
  {
   "cell_type": "code",
   "execution_count": 21,
   "metadata": {
    "collapsed": true
   },
   "outputs": [],
   "source": [
    "class EncoderRNN(nn.Module):\n",
    "    def __init__(self, input_size, hidden_size, n_layers=1):\n",
    "        ''' init\n",
    "        embed(num=input_size, embed_dim=hidden_size)\n",
    "        GRU(input_size=hidden_size, hidden_size=hidden_size)\n",
    "        Args:\n",
    "            input_size: 总的词汇的id的数量，用于embedding的第一个参数\n",
    "            hidden_size: embedding_dim, GRU的input_size和hidden_size\n",
    "            n_layers: GRU的层数\n",
    "        '''\n",
    "        super(EncoderRNN, self).__init__()\n",
    "        self.n_layers = n_layers\n",
    "        self.hidden_size = hidden_size\n",
    "        self.word_embeddings = nn.Embedding(input_size, hidden_size)\n",
    "        self.gru = nn.GRU(hidden_size, hidden_size)\n",
    "    \n",
    "    def forward(self, input, hidden):\n",
    "        '''forward\n",
    "        Args:\n",
    "            input: 单词id\n",
    "            hidden: 上一时刻的状态\n",
    "        '''\n",
    "        # (seq_len, batch, input_size) = (1, 1, hidden_size)\n",
    "        embedded = self.word_embeddings(input).view(1, 1, -1)\n",
    "        output = embedded\n",
    "        for i in range(self.n_layers):\n",
    "            output, hidden = self.gru(output, hidden)\n",
    "        return output, hidden\n",
    "    \n",
    "    def init_hidden(self):\n",
    "        hidden = Variable(torch.zeros(1, 1, self.hidden_size))\n",
    "        hidden = hidden if use_cuda is not True else hidden.cuda()\n",
    "        return hidden"
   ]
  },
  {
   "cell_type": "markdown",
   "metadata": {},
   "source": [
    "**DecoderRNN**"
   ]
  },
  {
   "cell_type": "code",
   "execution_count": 22,
   "metadata": {
    "collapsed": true
   },
   "outputs": [],
   "source": [
    "class DecoderRNN(nn.Module):\n",
    "    def __init__(self, hidden_size, output_size, n_layers=1):\n",
    "        '''初始化\n",
    "        Embedding(embed_num=output_size, embed_dim=hidden_size)\n",
    "        GRU(input_size=output_size, hidden_size=hidden_size)\n",
    "        Args:\n",
    "            hidden_size: embed的embed_dim, GRU的input_size和hidden_size, Linear的input_size\n",
    "            output_size: embed的embed_num, Linear的output_size\n",
    "            n_layers: GRU的层数\n",
    "        '''\n",
    "        super(DecoderRNN, self).__init__()\n",
    "        self.n_layers = n_layers\n",
    "        self.hidden_size = hidden_size\n",
    "        self.word_embeddings = nn.Embedding(output_size, hidden_size)\n",
    "        self.gru = nn.GRU(hidden_size, hidden_size)\n",
    "        self.out = nn.Linear(hidden_size, output_size)\n",
    "        self.softmax = nn.LogSoftmax()\n",
    "    \n",
    "    def forward(self, input):\n",
    "        ''' GRU+softmax\n",
    "        Args:\n",
    "            input: 单词id\n",
    "        Returns:\n",
    "            output: GRU的output再softmax，[1, hidden_size]\n",
    "            hidden: GRU的hidden (n_layer*n_dir, batch, hidden_size)\n",
    "        '''\n",
    "        output = self.word_embeddings(input).view(1, 1, -1)\n",
    "        for i in range(self.n_layers):\n",
    "            output = F.relu(output)\n",
    "            output, hidden = self.gru(output, hidden)\n",
    "        # output(seq_len, batch, hidden_size)=(1,1,hidden_size), output[0]=(1, hidden_size)\n",
    "        output = self.softmax(self.out(output[0]))\n",
    "        return output, hidden\n",
    "    \n",
    "    def init_hidden(self):\n",
    "        hidden = Variable(torch.zeros(1, 1, self.hidden_size))\n",
    "        hidden = hidden if use_cuda is not True else hidden.cuda()\n",
    "        return hidden"
   ]
  },
  {
   "cell_type": "markdown",
   "metadata": {},
   "source": [
    "**Attention**"
   ]
  },
  {
   "cell_type": "code",
   "execution_count": 25,
   "metadata": {},
   "outputs": [],
   "source": [
    "class AttnDecoderRNN(nn.Module):\n",
    "    \n",
    "    def __init__(self, hidden_size, output_size,\n",
    "                n_layers = 1, dropout_p = 0.1, max_length = MAX_LENGTH):\n",
    "        '''\n",
    "        Args:\n",
    "            hidden_size: embed_dim, GRU input_size, hidden_size\n",
    "            output_size: num_embed, Lienar: output_size\n",
    "            n_layers: GRU的层数\n",
    "            dropout_p: word_embedd时丢弃的概率\n",
    "            max_length: 句子长度\n",
    "        '''\n",
    "        super(AttnDecoderRNN, self).__init__()\n",
    "        self.hidden_size = hidden_size\n",
    "        self.output_size = output_size\n",
    "        self.n_layers = n_layers\n",
    "        self.dropout_p = dropout_p\n",
    "        self.max_length = max_length\n",
    "        \n",
    "        self.word_embeddings = nn.Embedding(self.output_size, self.hidden_size)\n",
    "        # why *2 (2h, max_len)\n",
    "        self.attn = nn.Linear(self.hidden_size * 2, self.max_length)\n",
    "        # (2h, h)\n",
    "        self.attn_combile = nn.Linear(self.hidden_size * 2, self.hidden_size)\n",
    "        self.dropout = nn.Dropout(self.dropout_p)\n",
    "        #(h, h)\n",
    "        self.gru = nn.GRU(self.hidden_size, self.hidden_size)\n",
    "        # (h, o)\n",
    "        self.out = nn.Linear(self.hidden_size, self.output_size)\n",
    "    \n",
    "    def forward(self, input, hidden, encoder_output, encoder_outputs):\n",
    "        '''\n",
    "        Args:\n",
    "            input:\n",
    "            hidden: [1, 1, h_size]\n",
    "            encoder_output:\n",
    "            encoder_outputs: (max_len, encoder.hidden_size)\n",
    "        Returns:\n",
    "            output: [1, out_size]\n",
    "            hidden: [1, 1, h_size]\n",
    "            attn_weights: [1, max_len]\n",
    "        '''\n",
    "        # (1, 1, h)\n",
    "        input_embed = self.word_embeddings(input).view(1, 1, -1)\n",
    "        input_embed = self.dropout(embedded)\n",
    "        \n",
    "        # (1, 2h)\n",
    "        i_h = torch.cat((input_embed[0], hidden[0]), 1)\n",
    "        # (1, max_len) input和hidden经过线性变化，得到给各个单词的注意力权值\n",
    "        attn_weights = F.softmax(self.attn(i_h))\n",
    "        \n",
    "        # 相乘 (1, 1, max_len) (1, max_len, h) > (1, 1, h)\n",
    "        attn_applied = torch.bmm(attn_weights.unseqeeze(0), encoder_outputs.unseqeeze(0))\n",
    "        \n",
    "        # (1, h) (1, h) > (1, 2h)\n",
    "        output = torch.cat((embedded[0], attn_applied[0]), 1)\n",
    "        # (1, 2h) > (1, h) > (1, 1, h)\n",
    "        output = self.attn_compile(output).unsqueeze(0)\n",
    "        \n",
    "        for i in range(self.n_layers):\n",
    "            output = F.relu(output)\n",
    "            output, hidden = self.gru(output, hidden)\n",
    "        # (1, 1, h) > (1, h) > (1, o)\n",
    "        output = self.log_softmax(self.out(output[0]))\n",
    "        return output, hidden, attn_weights\n",
    "    \n",
    "    def init_hidden(self):\n",
    "        hidden = Variable(torch.zeros(1, 1, self.hidden_size))\n",
    "        return hidden"
   ]
  },
  {
   "cell_type": "markdown",
   "metadata": {},
   "source": [
    "# 训练"
   ]
  },
  {
   "cell_type": "markdown",
   "metadata": {},
   "source": [
    "**准备训练数据**"
   ]
  },
  {
   "cell_type": "code",
   "execution_count": 26,
   "metadata": {},
   "outputs": [
    {
     "ename": "IndentationError",
     "evalue": "expected an indented block (<ipython-input-26-b2df0c1e06bc>, line 11)",
     "output_type": "error",
     "traceback": [
      "\u001b[0;36m  File \u001b[0;32m\"<ipython-input-26-b2df0c1e06bc>\"\u001b[0;36m, line \u001b[0;32m11\u001b[0m\n\u001b[0;31m    def variable_from_sentence(lang, sentence):\u001b[0m\n\u001b[0m                                               ^\u001b[0m\n\u001b[0;31mIndentationError\u001b[0m\u001b[0;31m:\u001b[0m expected an indented block\n"
     ]
    }
   ],
   "source": [
    "def indics_from_sentence(lang, sentence):\n",
    "    ''' 获得句子的词汇的id列表\n",
    "    Args:\n",
    "        lang: sentence所在的语言对象\n",
    "        sentence: 一句话\n",
    "    Returns:\n",
    "        [] 句子中单词的id列表\n",
    "    '''\n",
    "    return [lang.word2index[word] for word in sentence.split(' ')]\n",
    "\n",
    "\n",
    "def variable_from_sentence(lang, sentence):\n",
    "    ''' 获得一个句子的单词id组成的Variable\n",
    "    Rertuns:\n",
    "        indics_variable: 句子的单词的id列表，由Variable表示，(len, 1)\n",
    "    '''\n",
    "    indics = indics_from_sentence(lang, sentence)\n",
    "    indics.append(EOS_token)\n",
    "    indics_variable = Variable(torch.LongTensor(indics).view(-1, 1))\n",
    "    return indics_variable\n",
    "\n",
    "\n",
    "def variables_from_pair(pair):\n",
    "    input_variable = variable_from_sentence(pair[0])\n",
    "    target_variable = variable_from_sentence()\n"
   ]
  },
  {
   "cell_type": "markdown",
   "metadata": {
    "collapsed": true
   },
   "source": [
    "# API总结\n",
    "**正则表达式**[RE.Sub](https://www.crifan.com/python_re_sub_detailed_introduction/)"
   ]
  },
  {
   "cell_type": "code",
   "execution_count": 18,
   "metadata": {},
   "outputs": [
    {
     "name": "stdout",
     "output_type": "stream",
     "text": [
      "hello 222 world 222\n",
      "AAAABBBB\n",
      "hello re, nihao rEe\n",
      "plm\n",
      "plm\n",
      "plmsss\n",
      "plm\n",
      "a .b\n",
      "a .b\n"
     ]
    }
   ],
   "source": [
    "'''\n",
    "1. 正则表达式\n",
    "[] 里面是任意一个 [.!?] 任意一个\n",
    "() 是一个group，如([.!?])\n",
    "{} 是数量词，如{2,} 至少2个\n",
    "'''\n",
    "\n",
    "s = \"hello 123 world 456\"\n",
    "# 把匹配到的 \\d+ 用222来替换\n",
    "s1 = re.sub(r'\\d+', \"222\", s)\n",
    "print (s1)\n",
    "\n",
    "# \\1 是和前面的()内匹配到的字符串完全一样\n",
    "s1 = re.sub(r'hello (\\w+), nihao \\1', 'AAAA', \"hello re, nihao reBBBB\")\n",
    "print (s1)\n",
    "# 不相同，不能匹配到\n",
    "print (re.sub(r'hello (\\w+), nihao \\1', 'AAAA', \"hello re, nihao rEe\"))\n",
    "# 提取出组的信息\n",
    "print (re.sub(r'hello (\\w+), nihao \\1', r'\\g<1>', 'hello plm, nihao plm'))\n",
    "print (re.sub(r'hello (\\w+), nihao \\1', r'\\1', 'hello plm, nihao plm'))\n",
    "res = re.search(r'hello (\\w+), nihao \\1', 'hello plmsss, nihao plmsss')\n",
    "print (res.group(1))\n",
    "\n",
    "print (re.sub(r'hello (?P<pname>\\w+), nihao (?P=pname)', r'\\g<pname>', 'hello plm, nihao plm'))\n",
    "print (re.sub(r\"([.!?])\", r\" \\1\", 'a.b'))\n",
    "print (re.sub(r\"([.!?])\", r\" \\g<1>\", 'a.b'))\n",
    "# 一般用search或者match"
   ]
  },
  {
   "cell_type": "code",
   "execution_count": 25,
   "metadata": {},
   "outputs": [
    {
     "name": "stdout",
     "output_type": "stream",
     "text": [
      "<listreverseiterator object at 0x7f7485bf2490> [u'you', u'hello']\n",
      "1\n"
     ]
    }
   ],
   "source": [
    "'''2. reversed'''\n",
    "p = ['hello', 'you']\n",
    "print (reversed(p),list(reversed(p)))\n",
    "\n",
    "reverse = False\n",
    "en_idx = 0 if reverse is True else 1\n",
    "print (en_idx)"
   ]
  },
  {
   "cell_type": "code",
   "execution_count": 10,
   "metadata": {},
   "outputs": [
    {
     "name": "stdout",
     "output_type": "stream",
     "text": [
      "torch.Size([6, 3])\n",
      "torch.Size([2, 9])\n"
     ]
    }
   ],
   "source": [
    "'''3. torch.cat 把多个tensor组合在一起。形状要统一一样\n",
    "'''\n",
    "x = torch.randn(2, 3)\n",
    "# 按行排列 6*3\n",
    "print (torch.cat((x, x, x), 0).size())\n",
    "# 按列排 2*9\n",
    "print (torch.cat((x, x, x), 1).size())\n",
    "y = torch.randn(3, 3)"
   ]
  },
  {
   "cell_type": "code",
   "execution_count": 8,
   "metadata": {},
   "outputs": [
    {
     "name": "stdout",
     "output_type": "stream",
     "text": [
      "torch.Size([10, 3, 5])\n"
     ]
    }
   ],
   "source": [
    "'''4. torch.bmm 矩阵相乘的Tensor\n",
    "bach1 b*n*m, batch2: b*m*p, 结果：b*n*p\n",
    "'''\n",
    "batch1 = torch.randn(10, 3, 4)\n",
    "batch2 = torch.randn(10, 4, 5)\n",
    "res = torch.bmm(batch1, batch2)\n",
    "print (res.size())"
   ]
  },
  {
   "cell_type": "code",
   "execution_count": 15,
   "metadata": {},
   "outputs": [
    {
     "name": "stdout",
     "output_type": "stream",
     "text": [
      "torch.Size([4])\n",
      "torch.Size([1, 4])\n",
      "torch.Size([4, 1])\n",
      "torch.Size([1, 1, 4])\n",
      "torch.Size([1, 4, 1])\n"
     ]
    }
   ],
   "source": [
    "'''5 torch.unsqueeze 解缩，增加维数.0在前面加维数，1在后面加维数'''\n",
    "#[4]\n",
    "x = torch.Tensor([1, 2, 3, 4])\n",
    "print (x.size())\n",
    "\n",
    "# [1, 4]\n",
    "y1 = torch.unsqueeze(x, 0)\n",
    "print (y1.size())\n",
    "\n",
    "# [4, 1]\n",
    "y2 = torch.unsqueeze(x, 1)\n",
    "print (y2.size())\n",
    "\n",
    "# [1, 1, 4]\n",
    "print (y1.unsqueeze(0).size())\n",
    "# [1, 4, 1]\n",
    "print (y2.unsqueeze(0).size())"
   ]
  },
  {
   "cell_type": "code",
   "execution_count": 16,
   "metadata": {},
   "outputs": [
    {
     "name": "stdout",
     "output_type": "stream",
     "text": [
      "Variable containing:\n",
      " 0.2119\n",
      " 0.5761\n",
      " 0.2119\n",
      "[torch.FloatTensor of size 3]\n",
      "\n",
      "Variable containing:\n",
      "-1.5514\n",
      "-0.5514\n",
      "-1.5514\n",
      "[torch.FloatTensor of size 3]\n",
      "\n"
     ]
    }
   ],
   "source": [
    "# 6. softmax\n",
    "print (F.softmax(torch.Tensor([1, 2, 1])))\n",
    "print (F.log_softmax(torch.Tensor([1, 2, 1])))"
   ]
  },
  {
   "cell_type": "code",
   "execution_count": 29,
   "metadata": {},
   "outputs": [
    {
     "name": "stdout",
     "output_type": "stream",
     "text": [
      "torch.Size([3, 1])\n",
      "torch.Size([1, 3])\n"
     ]
    }
   ],
   "source": [
    "# 7. view -1在前面，保留在前面，后面维数+1；-1在后面，保留在后面，前面维数+1\n",
    "x = torch.Tensor([1, 2, 3])\n",
    "print (x.view(-1, 1).size())\n",
    "print (x.view(1, -1).size())"
   ]
  },
  {
   "cell_type": "code",
   "execution_count": null,
   "metadata": {
    "collapsed": true
   },
   "outputs": [],
   "source": []
  }
 ],
 "metadata": {
  "kernelspec": {
   "display_name": "Python 2",
   "language": "python",
   "name": "python2"
  },
  "language_info": {
   "codemirror_mode": {
    "name": "ipython",
    "version": 2
   },
   "file_extension": ".py",
   "mimetype": "text/x-python",
   "name": "python",
   "nbconvert_exporter": "python",
   "pygments_lexer": "ipython2",
   "version": "2.7.13"
  }
 },
 "nbformat": 4,
 "nbformat_minor": 2
}
