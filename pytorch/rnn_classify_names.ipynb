{
 "cells": [
  {
   "cell_type": "markdown",
   "metadata": {},
   "source": [
    "**数据处理**"
   ]
  },
  {
   "cell_type": "code",
   "execution_count": 1,
   "metadata": {},
   "outputs": [
    {
     "name": "stdout",
     "output_type": "stream",
     "text": [
      "[u'data/names/Arabic.txt', u'data/names/Chinese.txt', u'data/names/Czech.txt', u'data/names/Dutch.txt', u'data/names/English.txt', u'data/names/French.txt', u'data/names/German.txt', u'data/names/Greek.txt', u'data/names/Irish.txt', u'data/names/Italian.txt', u'data/names/Japanese.txt', u'data/names/Korean.txt', u'data/names/Polish.txt', u'data/names/Portuguese.txt', u'data/names/Russian.txt', u'data/names/Scottish.txt', u'data/names/Spanish.txt', u'data/names/Vietnamese.txt']\n",
      "(u'n_letters:', 57)\n",
      "Slusarski\n"
     ]
    }
   ],
   "source": [
    "from __future__ import unicode_literals, division\n",
    "import glob\n",
    "import unicodedata\n",
    "import string\n",
    "from io import open\n",
    "import torch\n",
    "import torch.nn as nn\n",
    "from torch.autograd import Variable\n",
    "import random\n",
    "import time\n",
    "import math\n",
    "\n",
    "def find_files(path):\n",
    "    '''查到当前路径下所有的文件\n",
    "    Args:\n",
    "        path: 路径，可以是一种匹配模式，如*.txt\n",
    "    '''\n",
    "    return glob.glob(path)\n",
    "\n",
    "src_path = 'data/names/*.txt'\n",
    "files = find_files(src_path)\n",
    "print (files)\n",
    "# a-zA-Z .;'\n",
    "all_letters = string.ascii_letters + \" .,;'\"\n",
    "n_letters = len(all_letters)\n",
    "print ('n_letters:', n_letters)\n",
    "\n",
    "def unicodeToAscii(s):\n",
    "    '''unicode to ascii'''\n",
    "    return ''.join(\n",
    "        c for c in unicodedata.normalize('NFD', s)\n",
    "        if unicodedata.category(c) != 'Mn'\n",
    "        and c in all_letters\n",
    "    )\n",
    "print(unicodeToAscii('Ślusàrski'))"
   ]
  },
  {
   "cell_type": "markdown",
   "metadata": {},
   "source": [
    "**读取文件**"
   ]
  },
  {
   "cell_type": "code",
   "execution_count": 2,
   "metadata": {},
   "outputs": [
    {
     "name": "stdout",
     "output_type": "stream",
     "text": [
      "(u'n_categories:', 18)\n",
      "[u'Ang', u'AuYong', u'Bai', u'Ban', u'Bao']\n"
     ]
    }
   ],
   "source": [
    "all_categories = []\n",
    "category_lines = {}\n",
    "def read_lines(filename):\n",
    "    '''读取filename中的内容，一行一行，转换为ascii码'''\n",
    "    # io.open\n",
    "    lines = open(filename, encoding = 'utf-8').read().strip().split('\\n')\n",
    "    return [unicodeToAscii(line) for line in lines]\n",
    "\n",
    "for filename in files:\n",
    "    category = filename.split('/')[-1].split('.')[0]\n",
    "    all_categories.append(category)\n",
    "    lines = read_lines(filename)\n",
    "    category_lines[category] = lines\n",
    "n_categories = len(all_categories)\n",
    "print ('n_categories:', n_categories)\n",
    "print(category_lines['Chinese'][:5])"
   ]
  },
  {
   "cell_type": "markdown",
   "metadata": {
    "collapsed": true
   },
   "source": [
    "**NameToTensor**"
   ]
  },
  {
   "cell_type": "code",
   "execution_count": 3,
   "metadata": {},
   "outputs": [
    {
     "name": "stdout",
     "output_type": "stream",
     "text": [
      "torch.Size([5, 1, 57])\n"
     ]
    }
   ],
   "source": [
    "def letter_to_index(letter):\n",
    "    '''字母的编号'''\n",
    "    return all_letters.find(letter)\n",
    "\n",
    "def letter_to_tensor(letter):\n",
    "    '''字符转成Tensor'''\n",
    "    tensor = torch.zeros(1, n_letters)\n",
    "    tensor[0][letter_to_index(letter)] = 1\n",
    "    return tensor\n",
    "\n",
    "def line_to_tensor(line):\n",
    "    '''单词转Tensor, (len(line), 1, n_letters), 1是batchsize=1\n",
    "    Args:\n",
    "        line: 一个人名\n",
    "    '''\n",
    "    tensor = torch.zeros(len(line), 1, n_letters)\n",
    "    for idx, letter in enumerate(line):\n",
    "        tensor[idx][0][letter_to_index(letter)] = 1\n",
    "    return tensor\n",
    "\n",
    "print (line_to_tensor('Jones').size())"
   ]
  },
  {
   "cell_type": "markdown",
   "metadata": {},
   "source": [
    "**构建网络**"
   ]
  },
  {
   "cell_type": "code",
   "execution_count": 4,
   "metadata": {},
   "outputs": [
    {
     "name": "stdout",
     "output_type": "stream",
     "text": [
      "(u'Net:', 57, 128, 18)\n",
      "(u'input[0]:', torch.Size([1, 57]), u'hidden:', torch.Size([1, 128]), <class 'torch.autograd.variable.Variable'>)\n",
      "torch.Size([1, 185])\n",
      "(u'output:', torch.Size([1, 18]), Variable containing:\n",
      "\n",
      "Columns 0 to 9 \n",
      "-2.8057 -2.8979 -2.9337 -2.9630 -2.8497 -2.9256 -2.8806 -2.9512 -2.9468 -2.9181\n",
      "\n",
      "Columns 10 to 17 \n",
      "-2.9732 -2.8373 -2.8623 -2.9667 -2.8157 -2.8652 -2.7905 -2.8725\n",
      "[torch.FloatTensor of size 1x18]\n",
      ")\n",
      "(u'max:', -2.790452480316162)\n",
      "(u'Spanish', 16)\n"
     ]
    }
   ],
   "source": [
    "class RNN(nn.Module):\n",
    "    def __init__(self, input_dim, hidden_dim, output_dim):\n",
    "        super(RNN, self).__init__()\n",
    "        self.hidden_dim = hidden_dim\n",
    "        # 两个线性回归\n",
    "        self.i2o = nn.Linear(input_dim + hidden_dim, output_dim)\n",
    "        self.i2h = nn.Linear(input_dim + hidden_dim, hidden_dim)\n",
    "        self.softmax = nn.LogSoftmax()\n",
    "    \n",
    "    def forward(self, input, hidden):\n",
    "        '''前向计算\n",
    "        Args:\n",
    "            input: 单个字符的编码，即[1, n_letters]矩阵\n",
    "            hidden: 上一个状态的hidden，即[1, hidden_dim]矩阵\n",
    "        Returns:\n",
    "            output: 当前的输出，这里是(1, n_categories)向量\n",
    "            hidden: 当前的隐状态\n",
    "        '''\n",
    "        combined = torch.cat((input, hidden), 1)\n",
    "        hidden = self.i2h(combined)\n",
    "        output = self.i2o(combined)\n",
    "        output = self.softmax(output)\n",
    "        return output, hidden\n",
    "    \n",
    "    def init_hidden(self):\n",
    "        return Variable(torch.zeros(1, self.hidden_dim))\n",
    "\n",
    "n_hidden = 128\n",
    "print ('Net:', n_letters, n_hidden, n_categories)\n",
    "rnn = RNN(n_letters, n_hidden, n_categories)\n",
    "\n",
    "# 测试\n",
    "input = Variable(line_to_tensor('Albert'))\n",
    "hidden = Variable(torch.zeros(1, n_hidden))\n",
    "# print (input[0])\n",
    "output, next_hidden = rnn(input[0], hidden)\n",
    "print ('input[0]:', input[0].size(), 'hidden:', hidden.size(), type(input[0]))\n",
    "a = torch.cat((input[0], hidden), 1)\n",
    "print (a.size())\n",
    "print ('output:', output.size(), output)\n",
    "# 用topk可以返回(values,indices)\n",
    "print ('max:', output.data.max())\n",
    "\n",
    "def category_from_output(output):\n",
    "    '''从output中得到具体的category\n",
    "    Args:\n",
    "        output: 网路的输出[1, n_categories]向量。是1个Tensor\n",
    "    Returns:\n",
    "        category_name和category_idx下标\n",
    "    '''\n",
    "    # 都是1*1的\n",
    "    values, indics = output.data.topk(1)\n",
    "    category_idx = indics[0][0]\n",
    "    return all_categories[category_idx], category_idx\n",
    "print (category_from_output(output))"
   ]
  },
  {
   "cell_type": "markdown",
   "metadata": {},
   "source": [
    "**准备训练数据**"
   ]
  },
  {
   "cell_type": "code",
   "execution_count": 5,
   "metadata": {
    "collapsed": true
   },
   "outputs": [],
   "source": [
    "def random_choice(la):\n",
    "    ''' 从列表中随机选择一个值\n",
    "    Args:\n",
    "        la: 列表\n",
    "    Returns:\n",
    "        value: 所选择的值\n",
    "    '''\n",
    "    idx = random.randint(0, len(la) - 1)\n",
    "    return la[idx]\n",
    "\n",
    "def random_training_example():\n",
    "    '''随机产生训练数据'''\n",
    "    category = random_choice(all_categories)\n",
    "    line = random_choice(category_lines[category])\n",
    "    category_idx = all_categories.index(category)\n",
    "    # 类别是LongTensor\n",
    "    category_tensor = Variable(torch.LongTensor([category_idx]))\n",
    "    line_tensor = Variable(line_to_tensor(line))\n",
    "    return category, line, category_tensor, line_tensor\n",
    "\n",
    "for i in range(10):\n",
    "    category, line, category_tensor, line_tensor = random_training_example()\n",
    "    #print (category, ':', line)\n",
    "    #print (category_tensor.size(), line_tensor.size())"
   ]
  },
  {
   "cell_type": "markdown",
   "metadata": {},
   "source": [
    "**训练网络**"
   ]
  },
  {
   "cell_type": "code",
   "execution_count": 13,
   "metadata": {},
   "outputs": [
    {
     "name": "stdout",
     "output_type": "stream",
     "text": [
      "start\n",
      "5000 5% (0m 18s) 4.2377, Paulis / Greek (False (German))\n",
      "10000 10% (0m 36s) 1.2928, Vestri / Italian (True)\n",
      "15000 15% (0m 54s) 1.1227, Quyen / Vietnamese (True)\n",
      "20000 20% (1m 12s) 1.8031, Issa / Japanese (False (Arabic))\n",
      "25000 25% (1m 30s) 0.3457, Milligan / Irish (True)\n",
      "30000 30% (1m 48s) 2.0461, Adsit / Scottish (False (Czech))\n",
      "35000 35% (2m 6s) 1.8947, Ormsby / Scottish (False (English))\n",
      "40000 40% (2m 24s) 1.2948, Jackson / Scottish (True)\n",
      "45000 45% (2m 42s) 0.4915, Campbell / Scottish (True)\n",
      "50000 50% (2m 59s) 0.9746, Kenkyusha / Japanese (True)\n",
      "55000 55% (3m 16s) 0.9119, Piontek / Polish (True)\n",
      "60000 60% (3m 33s) 1.9345, Mahoney / Arabic (False (Irish))\n",
      "65000 65% (3m 51s) 0.1679, Demakis / Greek (True)\n",
      "70000 70% (4m 8s) 0.9829, Martin / Scottish (True)\n",
      "75000 75% (4m 26s) 0.2461, Ta / Vietnamese (True)\n",
      "80000 80% (4m 44s) 1.4209, Shepherd / Dutch (False (English))\n",
      "85000 85% (5m 2s) 1.8468, Sokal / Scottish (False (Polish))\n",
      "90000 90% (5m 20s) 1.3280, Murygin / Irish (False (Russian))\n",
      "95000 95% (5m 38s) 0.3686, Mui / Chinese (True)\n",
      "100000 100% (5m 55s) 0.8688, Rozinek / Czech (True)\n",
      "end\n"
     ]
    }
   ],
   "source": [
    "loss_func = nn.NLLLoss()\n",
    "learning_rate = 0.005\n",
    "category, line, category_tensor, line_tensor = random_training_example()\n",
    "#print (output.size(), category_tensor.size(), category_tensor.data)\n",
    "loss = loss_func(output, category_tensor)\n",
    "#print (loss)\n",
    "def train(category_tensor, line_tensor):\n",
    "    ''' 一次训练\n",
    "    Args:\n",
    "        category_tensor: 类别的idx\n",
    "        line_tensor: 一个单词的编码，即(len, 1, n_letters)矩阵\n",
    "    '''\n",
    "    # 初始hidden和grad\n",
    "    hidden = rnn.init_hidden()\n",
    "    rnn.zero_grad()\n",
    "    # 依次输入每个字母，更新hidden\n",
    "    for i in range(line_tensor.size()[0]):\n",
    "#         print (line_tensor[i].size(), type(line_tensor[i]))\n",
    "#         print (hidden.size(), type(hidden))\n",
    "#         combined = torch.cat((line_tensor[i], hidden), 1)\n",
    "#         print (combined)\n",
    "        output, hidden = rnn(line_tensor[i], hidden)\n",
    "    # 计算loss\n",
    "    # (预测的，真实的)=(Input, target)=(N,C), (N)\n",
    "    loss = loss_func(output, category_tensor)\n",
    "    loss.backward()\n",
    "    \n",
    "    # 更新参数\n",
    "    for p in rnn.parameters():\n",
    "        p.data.add_(-learning_rate * p.grad.data)\n",
    "    return output, loss.data[0]\n",
    "\n",
    "n_iters = 100000\n",
    "print_every = 5000\n",
    "plot_every = 1000\n",
    "\n",
    "current_loss = 0\n",
    "all_losses = []\n",
    "\n",
    "def time_since(since):\n",
    "    now = time.time()\n",
    "    s = now - since\n",
    "    m = math.floor(s / 60)\n",
    "    s -= m * 60\n",
    "    return '%dm %ds' % (m, s)\n",
    "\n",
    "start = time.time()\n",
    "print 'start'\n",
    "for i in range(1, n_iters + 1):\n",
    "    category, line, category_tensor, line_tensor = random_training_example()\n",
    "    output, loss = train(category_tensor, line_tensor)\n",
    "    current_loss += loss\n",
    "    if i % print_every == 0:\n",
    "        c_pred, cpred_idx = category_from_output(output)\n",
    "        correct = 'True'\n",
    "        if category != c_pred:\n",
    "            correct = 'False (%s)' % category\n",
    "        print ('%d %d%% (%s) %.4f, %s / %s (%s)' \n",
    "               % (i, i / n_iters * 100, time_since(start), loss, line, c_pred, correct)\n",
    "              )\n",
    "    if i % plot_every == 0:\n",
    "        all_losses.append(current_loss / plot_every)\n",
    "        current_loss = 0\n",
    "print ('end')"
   ]
  },
  {
   "cell_type": "markdown",
   "metadata": {},
   "source": [
    "**plot loss**"
   ]
  },
  {
   "cell_type": "code",
   "execution_count": 16,
   "metadata": {},
   "outputs": [
    {
     "name": "stdout",
     "output_type": "stream",
     "text": [
      "100\n"
     ]
    },
    {
     "data": {
      "text/plain": [
       "[<matplotlib.lines.Line2D at 0x7fdbcd068750>]"
      ]
     },
     "execution_count": 16,
     "metadata": {},
     "output_type": "execute_result"
    },
    {
     "data": {
      "image/png": "[encoded data removed]",
      "text/plain": [
       "<matplotlib.figure.Figure at 0x7fdbcd934390>"
      ]
     },
     "metadata": {},
     "output_type": "display_data"
    }
   ],
   "source": [
    "%matplotlib inline\n",
    "import matplotlib.pyplot as plt\n",
    "import matplotlib.ticker as ticker\n",
    "print len(all_losses)\n",
    "plt.figure()\n",
    "plt.plot(all_losses)"
   ]
  },
  {
   "cell_type": "markdown",
   "metadata": {},
   "source": [
    "**评估模型**\n",
    "混合矩阵来评估"
   ]
  },
  {
   "cell_type": "code",
   "execution_count": 22,
   "metadata": {},
   "outputs": [
    {
     "name": "stdout",
     "output_type": "stream",
     "text": [
      "\n",
      " 0.7686\n",
      " 0.0231\n",
      " 0.0050\n",
      " 0.0099\n",
      " 0.0000\n",
      " 0.0000\n",
      " 0.0033\n",
      " 0.0364\n",
      " 0.0314\n",
      " 0.0132\n",
      " 0.0727\n",
      " 0.0050\n",
      " 0.0000\n",
      " 0.0231\n",
      " 0.0000\n",
      " 0.0033\n",
      " 0.0000\n",
      " 0.0050\n",
      "[torch.FloatTensor of size 18]\n",
      "\n"
     ]
    }
   ],
   "source": [
    "# 每个类别预测为别的类别的个数\n",
    "confusion = torch.zeros(n_categories, n_categories)\n",
    "n_confusion = 10000\n",
    "\n",
    "def evaluate(line_tensor):\n",
    "    '''得到line的分类结果'''\n",
    "    hidden = rnn.init_hidden()\n",
    "    for i in range(line_tensor.size()[0]):\n",
    "        output, hidden = rnn(line_tensor[i], hidden)\n",
    "    return output\n",
    "\n",
    "# 去记录\n",
    "for i in range(n_confusion):\n",
    "    category, line, category_tensor, line_tensor = random_training_example()\n",
    "    output = evaluate(line_tensor)\n",
    "    c_pred, c_pred_i = category_from_output(output)\n",
    "    category_i = all_categories.index(category)\n",
    "    # category_i 预测为 c_pred_i的数量+1\n",
    "    confusion[category_i][c_pred_i] += 1\n",
    "\n",
    "# 归一化\n",
    "for i in range(n_categories):\n",
    "    confusion[i] = confusion[i] / confusion[i].sum()\n",
    "    \n",
    "print(confusion[0])\n"
   ]
  },
  {
   "cell_type": "markdown",
   "metadata": {},
   "source": [
    "**画图表示confusion**"
   ]
  },
  {
   "cell_type": "code",
   "execution_count": 28,
   "metadata": {},
   "outputs": [
    {
     "data": {
      "image/png": "[encoded data removed]",
      "text/plain": [
       "<matplotlib.figure.Figure at 0x7fdb7830ad50>"
      ]
     },
     "metadata": {},
     "output_type": "display_data"
    }
   ],
   "source": [
    "# set up plot\n",
    "fig = plt.figure()\n",
    "ax = fig.add_subplot(111)\n",
    "cax = ax.matshow(confusion.numpy())\n",
    "fig.colorbar(cax)\n",
    "\n",
    "# axes x-0真实的，y-1预测的\n",
    "ax.set_xticklabels([''] + all_categories, rotation=90)\n",
    "ax.set_yticklabels([''] + all_categories)\n",
    "\n",
    "# force label at every tick，否则只会隔几个显示一下\n",
    "ax.yaxis.set_major_locator(ticker.MultipleLocator(1))\n",
    "ax.xaxis.set_major_locator(ticker.MultipleLocator(1))\n",
    "\n",
    "plt.show()"
   ]
  },
  {
   "cell_type": "markdown",
   "metadata": {},
   "source": [
    "**预测**"
   ]
  },
  {
   "cell_type": "code",
   "execution_count": 34,
   "metadata": {},
   "outputs": [
    {
     "name": "stdout",
     "output_type": "stream",
     "text": [
      "\n",
      " > ZhangJie\n",
      "(-1.37) Scottish\n",
      "(-1.40) Russian\n",
      "(-2.27) Japanese\n",
      "\n",
      " > Qiang\n",
      "(-0.89) Chinese\n",
      "(-1.01) Irish\n",
      "(-3.15) Vietnamese\n",
      "\n",
      " > WangJie\n",
      "(-0.66) Scottish\n",
      "(-1.74) English\n",
      "(-2.53) Russian\n",
      "\n",
      " > Carmelo\n",
      "(-0.94) Scottish\n",
      "(-1.33) Spanish\n",
      "(-1.80) Italian\n",
      "\n",
      " > Dovesky\n",
      "(-0.44) Russian\n",
      "(-1.64) Czech\n",
      "(-2.58) English\n",
      "\n",
      " > Jackson\n",
      "(-0.28) Scottish\n",
      "(-2.44) English\n",
      "(-2.69) Russian\n"
     ]
    }
   ],
   "source": [
    "def predict(name, n_predictions = 3):\n",
    "    '''输入一个姓名，进行预测'''\n",
    "    print ('\\n > %s' % name)\n",
    "    output = evaluate(Variable(line_to_tensor(name)))\n",
    "    # 都是1*1的\n",
    "    topv, topi = output.data.topk(n_predictions, 1, True)\n",
    "    predictions = []\n",
    "    for i in range(n_predictions):\n",
    "        prob = topv[0][i]\n",
    "        c_pred_i = topi[0][i]\n",
    "        c_pred = all_categories[c_pred_i]\n",
    "        print ('(%.2f) %s' % (prob, c_pred))\n",
    "        predictions.append([prob, c_pred])\n",
    "predict('ZhangJie')\n",
    "predict('Qiang')\n",
    "predict('WangJie')\n",
    "predict('Carmelo')\n",
    "predict('Dovesky')\n",
    "predict('Jackson')"
   ]
  },
  {
   "cell_type": "markdown",
   "metadata": {},
   "source": [
    "**API总结**"
   ]
  },
  {
   "cell_type": "code",
   "execution_count": 134,
   "metadata": {},
   "outputs": [
    {
     "name": "stdout",
     "output_type": "stream",
     "text": [
      "torch.Size([5])\n",
      "\n",
      " 5\n",
      "[torch.FloatTensor of size 1]\n",
      "\n",
      "\n",
      " 4\n",
      "[torch.LongTensor of size 1]\n",
      "\n",
      "1\n",
      "Variable containing:\n",
      " 1.8314\n",
      "[torch.FloatTensor of size 1]\n",
      "\n"
     ]
    }
   ],
   "source": [
    "'''1. randn和arange'''\n",
    "x = torch.randn(1, 1)  # 1个数, [1,1]\n",
    "#print (x.size())\n",
    "x = torch.arange(1, 6) # 5个数 [5]\n",
    "print (x.size())\n",
    "'''2. topk和max'''\n",
    "# topk 返回的是(values, indics)\n",
    "values, indics = x.topk(1)\n",
    "print (values)\n",
    "print (indics)\n",
    "# x.max() 会返回最大值，但是不会返回索引\n",
    "'''3. randint'''\n",
    "#[1,2]之间选择\n",
    "print (random.randint(1, 2))\n",
    "'''4. NLLLoss'''\n",
    "m = nn.LogSoftmax()\n",
    "loss_func = nn.NLLLoss()\n",
    "# input (n_batch, n_classes)\n",
    "inputs = Variable(torch.randn(3, 5), requires_grad = True)\n",
    "# 对应的类别，输入下标即可\n",
    "target = Variable(torch.LongTensor([1, 0, 4]))\n",
    "loss = loss_func(m(inputs), target)\n",
    "print (loss)\n",
    "loss.backward()\n"
   ]
  },
  {
   "cell_type": "code",
   "execution_count": null,
   "metadata": {
    "collapsed": true
   },
   "outputs": [],
   "source": []
  }
 ],
 "metadata": {
  "kernelspec": {
   "display_name": "Python 2",
   "language": "python",
   "name": "python2"
  },
  "language_info": {
   "codemirror_mode": {
    "name": "ipython",
    "version": 3
   },
   "file_extension": ".py",
   "mimetype": "text/x-python",
   "name": "python",
   "nbconvert_exporter": "python",
   "pygments_lexer": "ipython3",
   "version": "3.6.2"
  }
 },
 "nbformat": 4,
 "nbformat_minor": 2
}
