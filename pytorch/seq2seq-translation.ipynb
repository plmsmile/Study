{
 "cells": [
  {
   "cell_type": "markdown",
   "metadata": {},
   "source": [
    "# seq2seq translation "
   ]
  },
  {
   "cell_type": "code",
   "execution_count": 2,
   "metadata": {
    "collapsed": true
   },
   "outputs": [],
   "source": [
    "from __future__ import unicode_literals, print_function, division\n",
    "from io import open\n",
    "import unicodedata\n",
    "import string\n",
    "import re\n",
    "import random\n",
    "import time\n",
    "import math\n",
    "import pickle\n",
    "from collections import Counter\n",
    "\n",
    "import torch\n",
    "import torch.nn as nn\n",
    "from torch.autograd import Variable\n",
    "from torch import optim\n",
    "import torch.nn.functional as F"
   ]
  },
  {
   "cell_type": "code",
   "execution_count": 3,
   "metadata": {
    "collapsed": true
   },
   "outputs": [],
   "source": [
    "USE_CUDA = False\n",
    "data_dir = 'trans_data'\n",
    "SOS_token = 0\n",
    "EOS_token = 1"
   ]
  },
  {
   "cell_type": "markdown",
   "metadata": {},
   "source": [
    "# 数据处理"
   ]
  },
  {
   "cell_type": "markdown",
   "metadata": {},
   "source": [
    "### 单词管理的语言类"
   ]
  },
  {
   "cell_type": "code",
   "execution_count": 4,
   "metadata": {
    "collapsed": true
   },
   "outputs": [],
   "source": [
    "# class Lang(object):\n",
    "#     '''某一语言的类，单词-编码，词频统计'''\n",
    "    \n",
    "#     def __init__(self, name):\n",
    "#         self.name = name\n",
    "#         self.word2index = {}\n",
    "#         self.word2count = {}\n",
    "#         self.index2word = {0: 'SOS', 1: \"EOS\"}\n",
    "#         self.n_words = 2\n",
    "    \n",
    "#     def index_words(self, sentence):\n",
    "#         ''' 为语言类添加一句话\n",
    "#         Args:\n",
    "#             sentence: 话，字符串，经过处理后的，以空格分割\n",
    "#         '''\n",
    "#         for word in sentence.split(' '):\n",
    "#             self.index_word(word)\n",
    "    \n",
    "#     def index_word(self, word):\n",
    "#         '''添加一个词汇'''\n",
    "#         if word not in self.word2index:\n",
    "#             idx = self.n_words\n",
    "#             self.word2index[word] = idx\n",
    "#             self.word2count[word] = 1\n",
    "#             self.index2word[idx] = word\n",
    "#             self.n_words += 1\n",
    "#         else:\n",
    "#             self.word2count[word] += 1"
   ]
  },
  {
   "cell_type": "code",
   "execution_count": 5,
   "metadata": {
    "collapsed": true
   },
   "outputs": [],
   "source": [
    "class Lang(object):\n",
    "    '''某一语言的辅助类，word2index, index2word, 词频等'''\n",
    "    def __init__(self, name):\n",
    "        self.name = name\n",
    "        self.init_params()\n",
    "    \n",
    "    def init_params(self, trimmed = False):\n",
    "        '''初始化参数'''\n",
    "        # 修整标记\n",
    "        self.trimmed = trimmed\n",
    "        self.word2index = {}\n",
    "        self.word2count = {}\n",
    "        self.index2word = {0:\"PAD\", 1:\"SOS\", 2:\"EOS\"}\n",
    "        self.n_words = 3\n",
    "    \n",
    "    def index_word(self, word):\n",
    "        '''添加一个词语'''\n",
    "        if word not in self.word2index:\n",
    "            self.word2index[word] = self.n_words\n",
    "            self.word2count[word] = 1\n",
    "            self.index2word[self.n_words] = word\n",
    "            self.n_words += 1\n",
    "        else:\n",
    "            self.word2count[word] += 1\n",
    "    \n",
    "    def index_sentence(self, sentence, split_str=' '):\n",
    "        '''添加一句话\n",
    "        Args:\n",
    "            sentence: 字符串，单词以空格分割\n",
    "            split_str: 字符串单词分隔符，默认是空格\n",
    "        '''\n",
    "        for word in sentence.split(split_str):\n",
    "            self.index_word(word)\n",
    "    \n",
    "    def index_words(self, words):\n",
    "        '''添加词汇列表\n",
    "        Args:\n",
    "            words: 词汇列表\n",
    "        '''\n",
    "        for word in words:\n",
    "            self.index_word(word)\n",
    "    \n",
    "    def trim(self, min_count):\n",
    "        '''移除出现次数太少的单词\n",
    "        Args:\n",
    "            min_count: 最少出现次数\n",
    "        '''\n",
    "        if self.trimmed:\n",
    "            return\n",
    "        keep_words = []\n",
    "        \n",
    "        for word, count in self.word2count.items():\n",
    "            if count >= min_count:\n",
    "                keep_words.append(word)\n",
    "        print (\"keep words: %s / %s = %.4f\" % (len(keep_words), self.n_words,\n",
    "              len(keep_words) / self.n_words))\n",
    "        \n",
    "        # 重新更新参数，重新添加\n",
    "        self.init_params(True)\n",
    "        self.index_words(keep_words)"
   ]
  },
  {
   "cell_type": "markdown",
   "metadata": {},
   "source": [
    "### 转码和规整化字符串"
   ]
  },
  {
   "cell_type": "code",
   "execution_count": 6,
   "metadata": {},
   "outputs": [
    {
     "name": "stdout",
     "output_type": "stream",
     "text": [
      "nihao你好，&&~~··你 在 干嘛呀！。干。。\n",
      "nihao你好 ， 你 在 干嘛呀 ！ 。干 。 。\n"
     ]
    }
   ],
   "source": [
    "def unicode_to_ascii(s):\n",
    "    return ''.join(\n",
    "        c for c in unicodedata.normalize('NFD', s)\n",
    "        if unicodedata.category(c) != 'Mn'\n",
    "    )\n",
    "\n",
    "\n",
    "def normalize_str(s):\n",
    "    '''小写化，去首尾空格，去掉特殊字符，给标点符号加上空格'''\n",
    "    s = unicode_to_ascii(s.lower().strip())\n",
    "    # 给.!? 前面加上空格\n",
    "    s = re.sub(r\"([.!?！。，])\", r\" \\1\", s)\n",
    "    # 把非字母和.!?的字符串用空格代替\n",
    "    s = re.sub(r\"[^a-zA-Z.!！。，?]+\", r\" \", s)\n",
    "    return s\n",
    "\n",
    "def normalize_str2(s):\n",
    "    '''小写化，去首尾空格，去掉特殊字符，给标点符号加上空格'''\n",
    "    s = unicode_to_ascii(s.lower().strip())\n",
    "    # 标点\n",
    "    s = re.sub(r\"([.!?！。，])\", r\" \\1\", s)\n",
    "    s = re.sub(r'[^\\u4e00-\\u9fa5a-zA-Z.,!?。，！？ ]', r' ', s)\n",
    "    #print (s)\n",
    "    s = re.sub(r'\\s+', r\" \", s).strip()\n",
    "    return s\n",
    "\n",
    "def test_normalize_str():\n",
    "    s = 'nihao你好，&&~~··你 在 干嘛呀！。干。。'\n",
    "    print (s)\n",
    "    sn = normalize_str2(s)\n",
    "    print (sn)\n",
    "test_normalize_str()"
   ]
  },
  {
   "cell_type": "markdown",
   "metadata": {},
   "source": [
    "### 读取数据"
   ]
  },
  {
   "cell_type": "code",
   "execution_count": 7,
   "metadata": {
    "collapsed": true
   },
   "outputs": [],
   "source": [
    "def read_lines(filename):\n",
    "    '''读取filename中的内容，一行一行，转换为ascii码'''\n",
    "    # io.open\n",
    "    lines = open(filename, encoding = 'utf-8').read().strip().split('\\n')\n",
    "    return [unicode_to_ascii(line) for line in lines]\n",
    "\n",
    "\n",
    "def read_langs(filename, src_name = 'en', dst_name ='french', reverse=False):\n",
    "    ''' 读取\n",
    "    Args:\n",
    "        filename: 文件的路径\n",
    "        src_name: 源语言名称\n",
    "        dst_name: 目标语言名称\n",
    "        reverse: 是否翻转\n",
    "    Returns:\n",
    "        input_lang: 输入语言的对象，只初始化了名字\n",
    "        target_lang: 输出语言的对象，只初始化了名字\n",
    "        pairs: [[i1, o1], [i2, o2], ...] 字符串pair\n",
    "    '''\n",
    "    lines = read_lines(filename)\n",
    "    # 每一行以'\\t'分隔两种语言\n",
    "    pairs = []\n",
    "    for i, line in enumerate(lines):\n",
    "        l, r = line.split('\\t')\n",
    "        l, r = normalize_str(l), normalize_str(r)\n",
    "        pairs.append([l, r])\n",
    "    if reverse:\n",
    "        pairs = [list(reversed(p)) for p in pairs]\n",
    "        input_lang = Lang(dst_name)\n",
    "        target_lang = Lang(src_name)\n",
    "    else:\n",
    "        input_lang = Lang(src_name)\n",
    "        target_lang = Lang(dst_name)\n",
    "    return input_lang, target_lang, pairs\n",
    "\n",
    "\n",
    "def test_read_langs():\n",
    "    '''看下有几个pairs'''\n",
    "    filename = 'trans_data/en-french.txt'\n",
    "    input_lang, target_lang, pairs = read_langs(filename)\n",
    "    print (len(pairs))\n",
    "\n",
    "#test_read_langs()"
   ]
  },
  {
   "cell_type": "markdown",
   "metadata": {},
   "source": [
    "### 选择简单数据"
   ]
  },
  {
   "cell_type": "code",
   "execution_count": 8,
   "metadata": {
    "collapsed": true
   },
   "outputs": [],
   "source": [
    "# 句子长度\n",
    "MAX_LENGTH = 10\n",
    "good_prefixes = (\n",
    "    \"i am \", \"i m \",\n",
    "    \"he is\", \"he s \",\n",
    "    \"she is\", \"she s\",\n",
    "    \"you are\", \"you re \",\n",
    "    \"we are\", \"we re \",\n",
    "    \"they are\", \"they re \"\n",
    ")\n",
    "\n",
    "def is_simple(pair, en_idx):\n",
    "    ''' 选择简单的句子\n",
    "    长度小于MAX_LENGTH。格式，英语满足上面的前缀格式\n",
    "    Args:\n",
    "        pair: [en_sentence, otherlang_sentence]\n",
    "        en_idx: 英语所在的pair的位置，比如0或者1\n",
    "    '''\n",
    "    src, dst = pair[0].split(' '), pair[1].split(' ')\n",
    "    return (len(src) < MAX_LENGTH and len(dst) < MAX_LENGTH \n",
    "            and pair[en_idx].startswith(good_prefixes))\n",
    "\n",
    "\n",
    "def filter_pairs(pairs, en_idx):\n",
    "    return [p for p in pairs if is_simple(p, en_idx)]"
   ]
  },
  {
   "cell_type": "markdown",
   "metadata": {},
   "source": [
    "### 准备数据"
   ]
  },
  {
   "cell_type": "code",
   "execution_count": 9,
   "metadata": {
    "collapsed": true
   },
   "outputs": [],
   "source": [
    "def prepare_data(filename, src_name='english', dst_name='french', reverse = False):\n",
    "    ''' 准备数据\n",
    "    Args:\n",
    "        filename: 数据对的文件\n",
    "        src_name: 数据左边的语言\n",
    "        dst_name: 数据右边的语言\n",
    "        reverse: 默认(src-dst), 翻转则(dst-src)\n",
    "    Returns:\n",
    "        input_lang: 源语言 lang对象，name= src_name 或 dst_name (反转) \n",
    "        target_lang: 目标语言 lang对象，name= dst_name 或 src_name (反转) \n",
    "        pairs: [[i1, o1], [i2, o2], [i3, o3], ...]，都是字符串格式\n",
    "    '''\n",
    "    input_lang, target_lang, pairs = read_langs(filename, src_name, dst_name, reverse)\n",
    "    en_idx = 0 if reverse is not True else 1\n",
    "    print (\"read %s lines\" % len(pairs))\n",
    "    pairs = filter_pairs(pairs, en_idx)\n",
    "    print (\"remain %s lines\" % len(pairs))\n",
    "    for p in pairs:\n",
    "        input_lang.index_words(p[0])\n",
    "        target_lang.index_words(p[1])\n",
    "    print (input_lang.name, input_lang.n_words)\n",
    "    print (target_lang.name, target_lang.n_words)\n",
    "    return input_lang, target_lang, pairs\n",
    "\n",
    "def test_read_langs():\n",
    "    '''读取语言数据'''\n",
    "    filename = 'trans_data/en-french.txt'\n",
    "    input_lang, target_lang, pairs = prepare_data(filename, 'eng', 'fra', True)\n",
    "    print (random.choice(pairs))\n",
    "\n",
    "#test_read_langs()"
   ]
  },
  {
   "cell_type": "markdown",
   "metadata": {},
   "source": [
    "### 加载数据"
   ]
  },
  {
   "cell_type": "code",
   "execution_count": 10,
   "metadata": {
    "collapsed": true
   },
   "outputs": [],
   "source": [
    "# filename = 'trans_data/en-french.txt'\n",
    "# input_lang, target_lang, pairs = prepare_data(filename, 'eng', 'fra', True)\n",
    "# langs = (input_lang, target_lang)"
   ]
  },
  {
   "cell_type": "markdown",
   "metadata": {},
   "source": [
    "### 读取ai数据"
   ]
  },
  {
   "cell_type": "code",
   "execution_count": 11,
   "metadata": {},
   "outputs": [
    {
     "name": "stdout",
     "output_type": "stream",
     "text": [
      "read en: 5000\n",
      "read en: 10000\n",
      "read en: 15000\n",
      "read en: 20000\n",
      "finish: en: 20000\n",
      "read zn: 5000\n",
      "read zn: 10000\n",
      "read zn: 15000\n",
      "read zn: 20000\n",
      "finish zh: 20000\n"
     ]
    }
   ],
   "source": [
    "\n",
    "en_file = '20170912/seg_en'\n",
    "zh_file = '20170912/seg_zh'\n",
    "\n",
    "input_lang = Lang('english')\n",
    "target_lang = Lang('french')\n",
    "\n",
    "enf = open(en_file, 'r')\n",
    "zhf = open(zh_file, 'r')\n",
    "\n",
    "\n",
    "pairs = []\n",
    "idx = 0\n",
    "total = 20000\n",
    "print_every = 5000\n",
    "for line in enf.readlines():\n",
    "    line = normalize_str2(line)\n",
    "    words = line.split(' ')\n",
    "    input_lang.index_words(words)\n",
    "    pairs.append([line])\n",
    "    idx +=1\n",
    "    if idx % print_every == 0:\n",
    "        print ('read en:', idx)\n",
    "    if idx == total:\n",
    "        break\n",
    "print ('finish: en:', idx)\n",
    "idx = 0\n",
    "for line in zhf.readlines():\n",
    "    line = normalize_str2(line)\n",
    "    words = line.split(' ')\n",
    "    target_lang.index_words(words)\n",
    "    pairs[idx].append(line)\n",
    "    idx += 1\n",
    "    if idx % print_every == 0:\n",
    "        print ('read zn:', idx)\n",
    "    if idx == total:\n",
    "        break\n",
    "print ('finish zh:', idx)\n",
    "pairs_bak = pairs"
   ]
  },
  {
   "cell_type": "code",
   "execution_count": 12,
   "metadata": {},
   "outputs": [
    {
     "name": "stdout",
     "output_type": "stream",
     "text": [
      "34 27\n",
      "Counter({7: 2016, 8: 2007, 9: 1981, 10: 1943, 6: 1898, 11: 1621, 12: 1491, 5: 1330, 13: 1181, 14: 915, 4: 906, 15: 753, 16: 545, 3: 354, 17: 350, 18: 247, 19: 166, 20: 103, 21: 54, 2: 43, 22: 32, 23: 24, 24: 16, 26: 9, 25: 8, 1: 3, 28: 2, 27: 1, 34: 1})\n",
      "Counter({7: 2409, 6: 2307, 8: 2266, 5: 2215, 9: 1934, 10: 1566, 4: 1488, 11: 1416, 12: 1047, 3: 830, 13: 805, 14: 548, 15: 375, 16: 251, 17: 155, 2: 142, 18: 104, 19: 60, 21: 24, 20: 21, 22: 18, 1: 7, 23: 6, 24: 2, 25: 2, 26: 1, 27: 1})\n"
     ]
    }
   ],
   "source": [
    "# 统计句子长度的分布\n",
    "en_lens = [ len(p[0].split(' ')) for p in pairs]\n",
    "zh_lens = [ len(p[1].split(' ')) for p in pairs]\n",
    "print (max(en_lens), max(zh_lens))\n",
    "en_lens_c = Counter(en_lens)\n",
    "zh_lens_c = Counter(zh_lens)\n",
    "print (en_lens_c)\n",
    "print (zh_lens_c)"
   ]
  },
  {
   "cell_type": "code",
   "execution_count": 13,
   "metadata": {},
   "outputs": [
    {
     "name": "stdout",
     "output_type": "stream",
     "text": [
      "[(34, 1), (28, 2), (27, 1), (26, 9), (25, 8), (24, 16), (23, 24), (22, 32), (21, 54), (20, 103), (19, 166), (18, 247), (17, 350), (16, 545), (15, 753), (14, 915), (13, 1181), (12, 1491), (11, 1621), (10, 1943), (9, 1981), (8, 2007), (7, 2016), (6, 1898), (5, 1330), (4, 906), (3, 354), (2, 43), (1, 3)]\n",
      "[(27, 1), (26, 1), (25, 2), (24, 2), (23, 6), (22, 18), (21, 24), (20, 21), (19, 60), (18, 104), (17, 155), (16, 251), (15, 375), (14, 548), (13, 805), (12, 1047), (11, 1416), (10, 1566), (9, 1934), (8, 2266), (7, 2409), (6, 2307), (5, 2215), (4, 1488), (3, 830), (2, 142), (1, 7)]\n",
      "en: 22 zh: 19\n"
     ]
    }
   ],
   "source": [
    "en_min_count = 30\n",
    "zh_min_count = 30\n",
    "en_max_len = 100\n",
    "zh_max_len = 100\n",
    "\n",
    "en_d = dict(en_lens_c)\n",
    "zh_d = dict(zh_lens_c)\n",
    "en_d = sorted(en_d.items(), key = lambda d: d[0], reverse=True)\n",
    "zh_d = dict(zh_lens_c)\n",
    "zh_d = sorted(zh_d.items(), key = lambda d: d[0], reverse=True)\n",
    "print (en_d)\n",
    "print (zh_d)\n",
    "for l, c in en_d:\n",
    "    if c >= en_min_count:\n",
    "        en_max_len = l\n",
    "        break\n",
    "\n",
    "for l, c in zh_d:\n",
    "    if c >= zh_min_count:\n",
    "        zh_max_len = l\n",
    "        break\n",
    "\n",
    "print ('en:', en_max_len, 'zh:', zh_max_len)"
   ]
  },
  {
   "cell_type": "code",
   "execution_count": 14,
   "metadata": {},
   "outputs": [
    {
     "name": "stdout",
     "output_type": "stream",
     "text": [
      "20000 - 19884, 0.9942\n"
     ]
    }
   ],
   "source": [
    "def filter_pairs(pairs):\n",
    "    '''筛选长度合法的pair，两种语言句子都要满足长度'''\n",
    "    remained = []\n",
    "    for p in pairs:\n",
    "        if len(p[0].split(' ')) <= en_max_len and len(p[1].split(' ')) <= zh_max_len:\n",
    "            remained.append(p)\n",
    "    return remained\n",
    "new_pairs = filter_pairs(pairs)\n",
    "print ('%s - %s, %.4f' % (len(pairs), len(new_pairs), len(new_pairs) / len(pairs)))\n",
    "pairs = new_pairs"
   ]
  },
  {
   "cell_type": "code",
   "execution_count": 15,
   "metadata": {},
   "outputs": [
    {
     "name": "stdout",
     "output_type": "stream",
     "text": [
      "keep words: 5762 / 12187 = 0.4728\n",
      "Pairs raw:19884, now:14791, 0.7439 remain\n",
      "19884 14791\n"
     ]
    }
   ],
   "source": [
    "MIN_COUNT = 2\n",
    "input_lang.trim(MIN_COUNT)\n",
    "keep_pairs = []\n",
    "for p in pairs:\n",
    "    input_sentence = p[0]\n",
    "    keep_input = True\n",
    "    \n",
    "    for word in input_sentence.split(' '):\n",
    "        if word not in input_lang.word2index:\n",
    "            keep_input = False\n",
    "            break\n",
    "    if keep_input:\n",
    "        keep_pairs.append(p)\n",
    "\n",
    "info = 'Pairs raw:%s, now:%s, %.4f remain' % (len(pairs), len(keep_pairs), len(keep_pairs) / len(pairs))\n",
    "print (info)\n",
    "old_pairs = pairs\n",
    "print (len(old_pairs), len(keep_pairs))\n",
    "pairs = keep_pairs"
   ]
  },
  {
   "cell_type": "code",
   "execution_count": 15,
   "metadata": {},
   "outputs": [
    {
     "name": "stdout",
     "output_type": "stream",
     "text": [
      "a pair of red crowned cranes have staked out their nesting territory\n"
     ]
    }
   ],
   "source": [
    "print (pairs[0][0])\n",
    "langs = (input_lang, target_lang)\n",
    "MAX_LENGTH = zh_max_len"
   ]
  },
  {
   "cell_type": "markdown",
   "metadata": {},
   "source": [
    "### 把数据转换成Tensor和Variable"
   ]
  },
  {
   "cell_type": "code",
   "execution_count": 16,
   "metadata": {
    "scrolled": true
   },
   "outputs": [
    {
     "name": "stdout",
     "output_type": "stream",
     "text": [
      "(Variable containing:\n",
      "    3\n",
      "   29\n",
      "    5\n",
      "   30\n",
      "   31\n",
      "   32\n",
      "   33\n",
      "   34\n",
      "   35\n",
      "   36\n",
      "   28\n",
      "    1\n",
      "[torch.LongTensor of size 12x1]\n",
      ", Variable containing:\n",
      "    3\n",
      "   26\n",
      "   27\n",
      "   28\n",
      "    9\n",
      "   29\n",
      "   25\n",
      "    1\n",
      "[torch.LongTensor of size 8x1]\n",
      ")\n"
     ]
    }
   ],
   "source": [
    "def indics_from_sentence(lang, sentence):\n",
    "    ''' 获得句子的词汇的id列表\n",
    "    Args:\n",
    "        lang: sentence所在的语言对象\n",
    "        sentence: 一句话\n",
    "    Returns:\n",
    "        [] 句子中单词的id列表\n",
    "    '''\n",
    "    return [lang.word2index[word] for word in sentence.split(' ')]\n",
    "\n",
    "\n",
    "def variable_from_sentence(lang, sentence):\n",
    "    ''' 获得一个句子的单词id组成的Variable\n",
    "    Rertuns:\n",
    "        indics_variable: 句子的单词的id列表，由Variable表示，(len, 1)\n",
    "    '''\n",
    "    indics = indics_from_sentence(lang, sentence)\n",
    "    indics.append(EOS_token)\n",
    "    # 训练模型，使用Variable作为输入，因为Variable可以跟踪计算图，自动计算梯度\n",
    "    indics_variable = Variable(torch.LongTensor(indics).view(-1, 1))\n",
    "    if USE_CUDA:\n",
    "        indics_variable = indics_variable.cuda()\n",
    "    return indics_variable\n",
    "\n",
    "\n",
    "def variables_from_pair(langs, pair):\n",
    "    '''\n",
    "    Args:\n",
    "        langs: 两个语言对象List，(input_lang, target_lang)\n",
    "        pair: 一组句子list，(输入句子, 目标句子)\n",
    "    '''\n",
    "    input_variable = variable_from_sentence(langs[0], pair[0])\n",
    "    target_variable = variable_from_sentence(langs[1], pair[1])\n",
    "    return (input_variable, target_variable)\n",
    "\n",
    "\n",
    "def test_variables_from_pair():\n",
    "    '''选择一个pair，打印出相应的句子的单词id列表'''\n",
    "    pair_var = variables_from_pair(langs, pairs[2])\n",
    "    print (pair_var)\n",
    "\n",
    "test_variables_from_pair()"
   ]
  },
  {
   "cell_type": "markdown",
   "metadata": {},
   "source": [
    "### UTILS"
   ]
  },
  {
   "cell_type": "code",
   "execution_count": 17,
   "metadata": {
    "collapsed": true
   },
   "outputs": [],
   "source": [
    "def get_variable(tensor):\n",
    "    ''' 直接获得variable，后面不用在判断，使用GPU或者不使用\n",
    "    '''\n",
    "    var = Variable(tensor)\n",
    "    if USE_CUDA:\n",
    "        var = var.cuda()\n",
    "    return var"
   ]
  },
  {
   "cell_type": "markdown",
   "metadata": {},
   "source": [
    "# 网络模型"
   ]
  },
  {
   "cell_type": "markdown",
   "metadata": {},
   "source": [
    "### Encoder"
   ]
  },
  {
   "cell_type": "code",
   "execution_count": 18,
   "metadata": {
    "collapsed": true
   },
   "outputs": [],
   "source": [
    "class EncoderRNN(nn.Module):\n",
    "    '''input-embed-gru'''\n",
    "    def __init__(self, vocab_size, hidden_size, n_layers=1):\n",
    "        '''\n",
    "        Args:\n",
    "            vocab_size: 输入语言的词汇表大小\n",
    "            hidden_size: GRU的输入输出维数，词向量的维数\n",
    "            n_layers: GRU的层数\n",
    "        '''\n",
    "        super(EncoderRNN, self).__init__()\n",
    "        self.vocab_size = vocab_size\n",
    "        self.hidden_size = hidden_size\n",
    "        self.n_layers = n_layers\n",
    "        self.embedding = nn.Embedding(vocab_size, hidden_size)\n",
    "        self.gru = nn.GRU(hidden_size, hidden_size, n_layers)\n",
    "    \n",
    "    def forward(self, word_inputs, hidden):\n",
    "        '''\n",
    "        1. word_inputs > embedded\n",
    "        2. embedded > GRU > output, hidden\n",
    "        Args:\n",
    "            word_inputs: 输入的单词id列表，可以是1个或者多个\n",
    "            hidden: [n_layers, 1, hidden_size]\n",
    "        Returns:\n",
    "            output: [seq_len, 1, h_size]\n",
    "            hidden: [n_layers, 1, h_size]\n",
    "        '''\n",
    "        seq_len = len(word_inputs)\n",
    "        embedded = self.embedding(word_inputs).view(seq_len, 1, -1)\n",
    "        output, hidden = self.gru(embedded, hidden)\n",
    "        return output, hidden\n",
    "    \n",
    "    def init_hidden(self):\n",
    "        '''初始化hidden'''\n",
    "        hidden = get_variable(torch.zeros(self.n_layers, 1, self.hidden_size))\n",
    "        return hidden"
   ]
  },
  {
   "cell_type": "markdown",
   "metadata": {},
   "source": [
    "### Attn"
   ]
  },
  {
   "cell_type": "code",
   "execution_count": 19,
   "metadata": {
    "collapsed": true
   },
   "outputs": [],
   "source": [
    "class Attn(nn.Module):\n",
    "    '''计算对齐向量'''\n",
    "    def __init__(self, score_type, hidden_size, max_length = MAX_LENGTH):\n",
    "        '''\n",
    "        Args:\n",
    "            score_type: 计算score的方法，'dot', 'general', 'concat'\n",
    "            hidden_size: Encoder和Decoder的hidden_size\n",
    "            max_length: \n",
    "        '''\n",
    "        super(Attn, self).__init__()\n",
    "        \n",
    "        self.score_type = score_type\n",
    "        self.hidden_size = hidden_size\n",
    "        self.max_length = max_length\n",
    "        if score_type == 'general':\n",
    "            self.attn = nn.Linear(hidden_size, hidden_size)\n",
    "        elif score_type == 'concat':\n",
    "            self.attn = nn.Linear(hidden_size * 2, hidden_size)\n",
    "            self.other = nn.Parameter(torch.FloatTensor(1, hidden_size))\n",
    "    \n",
    "    def score(self, hidden, encoder_output):\n",
    "        ''' 计算Decoder中LSTM的ht与Encoder中的hs的得分，便于后面算对齐概率\n",
    "        Args:\n",
    "            hidden: Decoder中最顶层LSTM的隐状态，h_de_t，[1, h_size]\n",
    "            encoder_output: Encoder某时刻的隐状态，h_en_s，[1, h_size]\n",
    "        Returns:\n",
    "            energy: d_ht与e_hs的得分，即Yt与Xs的得分\n",
    "        '''\n",
    "        # dot 需要两个1维的向量\n",
    "        if self.score_type == 'dot':\n",
    "            energy = hidden.squeeze(0).dot(encoder_output.squeeze(0))\n",
    "        elif self.score_type == 'general':\n",
    "            energy = self.attn(encoder_output)\n",
    "            #print('energy:', energy.size(), 'hidden:', hidden.size())\n",
    "            energy = hidden.squeeze(0).dot(energy.squeeze(0))\n",
    "        elif self.score_type == 'concat':\n",
    "            h_o = torch.cat((hidden, encoder_output), 1)\n",
    "            energy = self.attn(h_o)\n",
    "            energy = self.other.squeeze(0).dot(energy.squeeze(0))\n",
    "        return energy\n",
    "    \n",
    "    def forward(self, hidden, encoder_outputs):\n",
    "        ''' 时刻t，计算对齐向量\n",
    "        Args:\n",
    "            hidden: Top LSTM的隐状态\n",
    "            encoder_outputs: Encoder的所有隐状态, len=Tx输入句子长度\n",
    "        Returns:\n",
    "            align_vec: 当前ht与所有encoder_outputs的对齐向量，alpha_t，len=Tx，返回[1, 1, seq_len]格式\n",
    "        '''\n",
    "        seq_len = len(encoder_outputs)\n",
    "        attn_energies = get_variable(torch.zeros(seq_len))\n",
    "        for i in range(seq_len):\n",
    "            attn_energies[i] = self.score(hidden, encoder_outputs[i])\n",
    "        # normalize [0, 1], resize to [1, 1, seq_len]\n",
    "        align_vec = F.softmax(attn_energies)\n",
    "        align_vec = align_vec.unsqueeze(0).unsqueeze(0)\n",
    "        #print ('alignv:', type(align_vec))\n",
    "        return align_vec"
   ]
  },
  {
   "cell_type": "markdown",
   "metadata": {},
   "source": [
    "### AttnDecoderRNN"
   ]
  },
  {
   "cell_type": "code",
   "execution_count": 20,
   "metadata": {
    "collapsed": true
   },
   "outputs": [],
   "source": [
    "class AttnDecoderRNN(nn.Module):\n",
    "    def __init__(self, hidden_size, output_size, n_layers=1, score_type='general', dropout_p=0.1):\n",
    "        ''' init\n",
    "        Args:\n",
    "            hidden_size: Embedding和GRU的hidden_size\n",
    "            output_size: 输出的size，是目标语言的词典大小\n",
    "            score_type: 'dot', 'general', 'concat'\n",
    "            n_layers: GRU的层数\n",
    "            dropout_p: dropout\n",
    "        '''\n",
    "        super(AttnDecoderRNN, self).__init__()\n",
    "        # parameters\n",
    "        self.hidden_size = hidden_size\n",
    "        self.output_size = output_size\n",
    "        self.score_type = score_type\n",
    "        self.n_layers = n_layers\n",
    "        self.dropout_p = dropout_p\n",
    "        \n",
    "        # layers\n",
    "        self.embedding = nn.Embedding(output_size, hidden_size)\n",
    "        # 注意input_size\n",
    "        self.gru = nn.GRU(hidden_size * 2, hidden_size, n_layers, dropout = dropout_p)\n",
    "        self.out = nn.Linear(hidden_size * 2, output_size)\n",
    "        # 计算对齐向量\n",
    "        self.attn = Attn(score_type, hidden_size)\n",
    "    \n",
    "    def forward(self, word_input, last_context, last_hidden, encoder_outputs):\n",
    "        '''\n",
    "        1. (word_embedded, last_context) > rnn_input\n",
    "        2. rnn_input, last_hidden > GRU > rnn_output, hidden\n",
    "        3. rnn_output, encoder_outputs > Attn > attn_weights\n",
    "        4. attn_weights * encoder_outputs > context\n",
    "        5. (rnn_output, context) > Out > Softmax > output\n",
    "        Args:\n",
    "            word_input: word_id\n",
    "            last_context: [1, h]\n",
    "            last_hidden: [1, 1, h]\n",
    "            encoder_outputs: [seq_len, 1, h]\n",
    "        Returns:\n",
    "            output: [1, o_size]\n",
    "            context: [1, h]\n",
    "            hidden: [1, 1, h]\n",
    "            attn_weights: [1, 1, inseq_len]\n",
    "        '''\n",
    "        # 当前input_word, 实际上是last output_word\n",
    "        word_embedded = self.embedding(word_input).view(1, 1, -1)\n",
    "        \n",
    "        # 串联input_word和last_context作为GRU的输入\n",
    "        rnn_input = torch.cat((word_embedded, last_context.unsqueeze(0)), 2)\n",
    "        # 当前输入一个单词 (seq_len=1, b, h) (n_layers*n_dirs, b, h)\n",
    "        rnn_output, hidden = self.gru(rnn_input, last_hidden)\n",
    "        \n",
    "        # 计算output与encoder_outputs的对齐向量 (1, 1, seq_len)\n",
    "        attn_weights = self.attn(rnn_output.squeeze(0), encoder_outputs)\n",
    "        #print (type(attn_weights), attn_weights)\n",
    "        # 语义向量 (1, 1, seq_len) (1, seq_len, h) > (1, 1, h)\n",
    "        context = attn_weights.bmm(encoder_outputs.transpose(0, 1))\n",
    "        \n",
    "        # RNN h和context 输出output (1,1,h) > (1, h)\n",
    "        rnn_output = rnn_output.squeeze(0)\n",
    "        # (1, 1, h) > (1, h)\n",
    "        context = context.squeeze(1)\n",
    "        # (1, 2h)\n",
    "        ro_c = torch.cat((rnn_output, context), 1)\n",
    "        # (1, o_size)\n",
    "        output = F.log_softmax(self.out(ro_c))\n",
    "        return output, context, hidden, attn_weights"
   ]
  },
  {
   "cell_type": "markdown",
   "metadata": {},
   "source": [
    "### 测试模型"
   ]
  },
  {
   "cell_type": "code",
   "execution_count": 21,
   "metadata": {},
   "outputs": [
    {
     "name": "stdout",
     "output_type": "stream",
     "text": [
      "EncoderRNN (\n",
      "  (embedding): Embedding(10, 10)\n",
      "  (gru): GRU(10, 10, num_layers=2)\n",
      ")\n",
      "AttnDecoderRNN (\n",
      "  (embedding): Embedding(10, 10)\n",
      "  (gru): GRU(20, 10, num_layers=2, dropout=0.1)\n",
      "  (out): Linear (20 -> 10)\n",
      "  (attn): Attn (\n",
      "    (attn): Linear (10 -> 10)\n",
      "  )\n",
      ")\n",
      "torch.Size([1, 10]) torch.Size([2, 1, 10]) torch.Size([1, 1, 3])\n",
      "torch.Size([1, 10]) torch.Size([2, 1, 10]) torch.Size([1, 1, 3])\n",
      "torch.Size([1, 10]) torch.Size([2, 1, 10]) torch.Size([1, 1, 3])\n"
     ]
    }
   ],
   "source": [
    "def test_model():\n",
    "    encoder = EncoderRNN(10, 10, 2)\n",
    "    decoder = AttnDecoderRNN(10, 10, 2, score_type='general')\n",
    "    print (encoder)\n",
    "    print (decoder)\n",
    "    encoder_hidden = encoder.init_hidden()\n",
    "    word_inputs = get_variable(torch.LongTensor([1, 2, 3]))\n",
    "    encoder_outputs, encoder_hidden = encoder(word_inputs, encoder_hidden)\n",
    "    #print ('outputs:', encoder_outputs.size(), ', hidden:', encoder_hidden.size())\n",
    "    \n",
    "    attns = torch.zeros(1, 3, 3)\n",
    "    hidden = encoder_hidden\n",
    "    context = get_variable(torch.zeros(1, decoder.hidden_size))\n",
    "    \n",
    "    for i in range(3):\n",
    "        output, context, hidden, attn_weights = decoder(word_inputs[i], context, hidden, encoder_outputs)\n",
    "        print (output.size(), hidden.size(), attn_weights.size())\n",
    "    \n",
    "test_model()"
   ]
  },
  {
   "cell_type": "markdown",
   "metadata": {
    "collapsed": true
   },
   "source": [
    "# 训练"
   ]
  },
  {
   "cell_type": "code",
   "execution_count": 22,
   "metadata": {
    "collapsed": true
   },
   "outputs": [],
   "source": [
    "teacher_forcing_ratio = 0.4\n",
    "clip = 5.0\n",
    "\n",
    "def train(inputv, targetv, encoder, decoder, \n",
    "          encoder_optimizer, decoder_optimizer, loss_func, max_length = MAX_LENGTH):\n",
    "    # zero grad\n",
    "    encoder_optimizer.zero_grad()\n",
    "    decoder_optimizer.zero_grad()\n",
    "    loss = 0\n",
    "    \n",
    "    # 输入和输出句子长度\n",
    "    input_len = inputv.size()[0]\n",
    "    target_len = targetv.size()[0]\n",
    "    \n",
    "    # encoder\n",
    "    encoder_hidden = encoder.init_hidden()\n",
    "    encoder_outputs, encoder_hidden = encoder(inputv, encoder_hidden)\n",
    "    \n",
    "    # input and output variables\n",
    "    decoder_input = get_variable(torch.LongTensor([[SOS_token]]))\n",
    "    decoder_context = get_variable(torch.zeros(1, decoder.hidden_size))\n",
    "    decoder_hidden = encoder_hidden\n",
    "    \n",
    "    use_teacher_forcing = random.random() < teacher_forcing_ratio\n",
    "    \n",
    "    if use_teacher_forcing:\n",
    "        # 使用真实值作为输入\n",
    "        for i in range(target_len):\n",
    "            decoder_output, decoder_context, decoder_hidden, decoder_attention = \\\n",
    "                decoder(decoder_input, decoder_context, decoder_hidden, encoder_outputs)\n",
    "            #print('******************', decoder_output[0].size(), targetv[i].size())\n",
    "            loss += loss_func(decoder_output, targetv[i]) \n",
    "            decoder_input = targetv[i]\n",
    "    else:\n",
    "        # 使用网络预测的作为输入\n",
    "        for i in range(target_len):\n",
    "            decoder_output, decoder_context, decoder_hidden, decoder_attention = \\\n",
    "                decoder(decoder_input, decoder_context, decoder_hidden, encoder_outputs)\n",
    "            #print('******************', decoder_output[0].size(), targetv[i].size())\n",
    "            loss += loss_func(decoder_output, targetv[i]) \n",
    "            # 找到最有可能的词\n",
    "            topv, topi = decoder_output.data.topk(1)\n",
    "            ni = topi[0][0]\n",
    "            decoder_input = get_variable(torch.LongTensor([[ni]]))\n",
    "            if ni == EOS_token:\n",
    "                break\n",
    "    # bp\n",
    "    loss.backward()\n",
    "    torch.nn.utils.clip_grad_norm(encoder.parameters(), clip)\n",
    "    torch.nn.utils.clip_grad_norm(decoder.parameters(), clip)\n",
    "    encoder_optimizer.step()\n",
    "    decoder_optimizer.step()\n",
    "    return loss.data[0] / target_len"
   ]
  },
  {
   "cell_type": "code",
   "execution_count": 23,
   "metadata": {
    "collapsed": true
   },
   "outputs": [],
   "source": [
    "def as_minutes(s):\n",
    "    m = math.floor(s / 60)\n",
    "    s -= m * 60\n",
    "    return ('%dm %ds') % (m, s)\n",
    "\n",
    "def time_since(since, percent):\n",
    "    now = time.time()\n",
    "    s = now - since\n",
    "    es = s / percent\n",
    "    rs = es - s\n",
    "    return '%s (- %s)' % (as_minutes(s), as_minutes(rs))"
   ]
  },
  {
   "cell_type": "markdown",
   "metadata": {},
   "source": [
    "### 进行训练"
   ]
  },
  {
   "cell_type": "code",
   "execution_count": 24,
   "metadata": {},
   "outputs": [
    {
     "name": "stdout",
     "output_type": "stream",
     "text": [
      "EncoderRNN (\n",
      "  (embedding): Embedding(12187, 500)\n",
      "  (gru): GRU(500, 500, num_layers=2)\n",
      ")\n",
      "AttnDecoderRNN (\n",
      "  (embedding): Embedding(18197, 500)\n",
      "  (gru): GRU(1000, 500, num_layers=2, dropout=0.05)\n",
      "  (out): Linear (1000 -> 18197)\n",
      "  (attn): Attn (\n",
      "    (attn): Linear (500 -> 500)\n",
      "  )\n",
      ")\n"
     ]
    }
   ],
   "source": [
    "score_type = 'general'\n",
    "hidden_size = 500\n",
    "n_layers = 2\n",
    "dropout_p = 0.05\n",
    "learning_rate = 0.0001\n",
    "\n",
    "encoder = EncoderRNN(input_lang.n_words, hidden_size, n_layers)\n",
    "decoder = AttnDecoderRNN(hidden_size, target_lang.n_words, n_layers=n_layers,\n",
    "                         score_type=score_type, dropout_p=dropout_p)\n",
    "print (encoder)\n",
    "print (decoder)\n",
    "\n",
    "encoder_optimizer = optim.Adam(encoder.parameters(), lr=learning_rate)\n",
    "decoder_optimizer = optim.Adam(decoder.parameters(), lr=learning_rate)\n",
    "loss_func = nn.NLLLoss()"
   ]
  },
  {
   "cell_type": "code",
   "execution_count": 27,
   "metadata": {
    "collapsed": true
   },
   "outputs": [],
   "source": [
    "# 训练信息\n",
    "n_epochs = int(50000*1.5)\n",
    "plot_every = int(200*1.5)\n",
    "print_every = int(500)\n",
    "\n",
    "start = time.time()\n",
    "plot_losses = []\n",
    "print_loss_total = 0\n",
    "plot_loss_total = 0\n",
    "log_file = './seq2seq-enzh.log'\n",
    "f = open(log_file, 'w')"
   ]
  },
  {
   "cell_type": "code",
   "execution_count": null,
   "metadata": {},
   "outputs": [
    {
     "name": "stdout",
     "output_type": "stream",
     "text": [
      "33m 49s (- 5039m 11s) (500 0%) 5.0958\n",
      "106m 15s (- 5206m 54s) (1500 2%) 4.7210\n",
      "143m 4s (- 5222m 28s) (2000 2%) 4.6681\n",
      "180m 10s (- 5225m 6s) (2500 3%) 4.5910\n"
     ]
    }
   ],
   "source": [
    "model_dir = 'models/en-zh-1015'\n",
    "save_every = 20000\n",
    "\n",
    "# 开始训练\n",
    "for epoch in range(1, n_epochs+1):\n",
    "    training_pair = variables_from_pair(langs, random.choice(pairs))\n",
    "    inputv = training_pair[0]\n",
    "    targetv = training_pair[1]\n",
    "    loss = train(inputv, targetv, encoder, decoder, encoder_optimizer, decoder_optimizer, loss_func)\n",
    "    \n",
    "    # Keep track of loss\n",
    "    print_loss_total += loss\n",
    "    plot_loss_total += loss\n",
    "    \n",
    "    if epoch == 0: continue\n",
    "\n",
    "    if epoch % print_every == 0:\n",
    "        print_loss_avg = print_loss_total / print_every\n",
    "        print_loss_total = 0\n",
    "        print_summary = '%s (%d %d%%) %.4f' % (time_since(start, epoch / n_epochs), epoch, epoch / n_epochs * 100, print_loss_avg)\n",
    "        print(print_summary)\n",
    "        f.write(print_summary + '\\n')\n",
    "\n",
    "    if epoch % plot_every == 0:\n",
    "        plot_loss_avg = plot_loss_total / plot_every\n",
    "        plot_losses.append(plot_loss_avg)\n",
    "        plot_loss_total = 0\n",
    "    \n",
    "    if epoch % save_every == 0:\n",
    "        no = epoch / save_every\n",
    "        to = n_epochs / save_every\n",
    "        s = '{}_{}'.format(no, to)\n",
    "        torch.save(encoder, model_dir + '/' + s + 'encoder.pkl')\n",
    "        torch.save(encoder, model_dir + '/' + s + 'decoder.pkl')\n",
    "\n",
    "# 保存模型\n",
    "model_dir = 'models/en-zh-1015'\n",
    "torch.save(encoder, model_dir + '/encoder.pkl')\n",
    "torch.save(decoder, model_dir + '/decoder.pkl')"
   ]
  },
  {
   "cell_type": "code",
   "execution_count": 96,
   "metadata": {},
   "outputs": [
    {
     "ename": "NameError",
     "evalue": "name 'model_dir' is not defined",
     "output_type": "error",
     "traceback": [
      "\u001b[0;31m---------------------------------------------------------------------------\u001b[0m",
      "\u001b[0;31mNameError\u001b[0m                                 Traceback (most recent call last)",
      "\u001b[0;32m<ipython-input-96-e75c6bfccc08>\u001b[0m in \u001b[0;36m<module>\u001b[0;34m()\u001b[0m\n\u001b[0;32m----> 1\u001b[0;31m \u001b[0mencoder1\u001b[0m \u001b[0;34m=\u001b[0m \u001b[0mtorch\u001b[0m\u001b[0;34m.\u001b[0m\u001b[0mload\u001b[0m\u001b[0;34m(\u001b[0m\u001b[0mmodel_dir\u001b[0m \u001b[0;34m+\u001b[0m \u001b[0;34m'/encoder.pkl'\u001b[0m\u001b[0;34m)\u001b[0m\u001b[0;34m\u001b[0m\u001b[0m\n\u001b[0m\u001b[1;32m      2\u001b[0m \u001b[0mdecoder1\u001b[0m \u001b[0;34m=\u001b[0m \u001b[0mtorch\u001b[0m\u001b[0;34m.\u001b[0m\u001b[0mload\u001b[0m\u001b[0;34m(\u001b[0m\u001b[0mmodel_dir\u001b[0m \u001b[0;34m+\u001b[0m \u001b[0;34m'/decoder.pkl'\u001b[0m\u001b[0;34m)\u001b[0m\u001b[0;34m\u001b[0m\u001b[0m\n\u001b[1;32m      3\u001b[0m \u001b[0;34m\u001b[0m\u001b[0m\n\u001b[1;32m      4\u001b[0m \u001b[0;34m\u001b[0m\u001b[0m\n\u001b[1;32m      5\u001b[0m \u001b[0;32mdef\u001b[0m \u001b[0mevaluate\u001b[0m\u001b[0;34m(\u001b[0m\u001b[0msentence\u001b[0m\u001b[0;34m,\u001b[0m \u001b[0minput_lang\u001b[0m\u001b[0;34m,\u001b[0m \u001b[0mtarget_lang\u001b[0m\u001b[0;34m,\u001b[0m \u001b[0mencoder\u001b[0m\u001b[0;34m,\u001b[0m \u001b[0mdecoder\u001b[0m\u001b[0;34m,\u001b[0m \u001b[0mmax_length\u001b[0m \u001b[0;34m=\u001b[0m \u001b[0mMAX_LENGTH\u001b[0m\u001b[0;34m)\u001b[0m\u001b[0;34m:\u001b[0m\u001b[0;34m\u001b[0m\u001b[0m\n",
      "\u001b[0;31mNameError\u001b[0m: name 'model_dir' is not defined"
     ]
    }
   ],
   "source": [
    "encoder1 = torch.load(model_dir + '/encoder.pkl')\n",
    "decoder1 = torch.load(model_dir + '/decoder.pkl')\n",
    "\n",
    "\n",
    "def evaluate(sentence, input_lang, target_lang, encoder, decoder, max_length = MAX_LENGTH):\n",
    "    inputv = variable_from_sentence(input_lang, sentence)\n",
    "    input_length = inputv.size()[0]\n",
    "    encoder_hidden = encoder.init_hidden()\n",
    "    encoder_outputs, encoder_hidden = encoder(inputv, encoder_hidden)\n",
    "    \n",
    "    decoder_input = get_variable(torch.LongTensor([[SOS_token]]))\n",
    "    decoder_context = get_variable(torch.zeros(1, decoder.hidden_size))\n",
    "    decoder_hidden = encoder_hidden\n",
    "    \n",
    "    decoded_words = []\n",
    "    decoder_attentions = torch.zeros(max_length, max_length)\n",
    "    \n",
    "     # 使用网络预测的作为输入\n",
    "    for i in range(max_length):\n",
    "        decoder_output, decoder_context, decoder_hidden, decoder_attention = \\\n",
    "            decoder(decoder_input, decoder_context, decoder_hidden, encoder_outputs)\n",
    "        #print('******************', decoder_output[0].size(), targetv[i].size())\n",
    "        # 找到最有可能的词\n",
    "        topv, topi = decoder_output.data.topk(1)\n",
    "        ni = topi[0][0]\n",
    "        decoder_input = get_variable(torch.LongTensor([[ni]]))\n",
    "        decoded_words.append(target_lang.index2word[ni])\n",
    "        if ni == EOS_token:\n",
    "            break\n",
    "    return decoded_words\n",
    "\n",
    "def evaluate_randomly(encoder, decoder, input_lang, target_lang):\n",
    "    pair = random.choice(pairs)\n",
    "    output_words = evaluate(pair[0], input_lang, target_lang, encoder1, decoder1)\n",
    "    output_sentence = ' '.join(output_words)\n",
    "    print ('raw:', pair[0])\n",
    "    print ('tar:', pair[1])\n",
    "    print ('now:', output_sentence)\n",
    "\n",
    "for i in range(5):\n",
    "    evaluate_randomly(encoder1, decoder1, input_lang, target_lang)\n",
    "    print ('')"
   ]
  },
  {
   "cell_type": "code",
   "execution_count": null,
   "metadata": {},
   "outputs": [
    {
     "name": "stdout",
     "output_type": "stream",
     "text": [
      "Je t'aime\n",
      "now: i m you you . EOS\n",
      "J'ai besoin de toi\n",
      "now: i m on you of you . EOS\n",
      "J'ai faim\n",
      "now: i m hungry hungry . EOS\n",
      "Il avait faim\n",
      "now: he s got hungry . EOS\n",
      "Il est plein de nourriture\n",
      "now: he is full of treachery . EOS\n",
      "Il veut manger\n",
      "now: he s a bad liar . EOS\n"
     ]
    }
   ],
   "source": [
    "while(True):\n",
    "    s = raw_input()\n",
    "    s = unicode(s)\n",
    "    s = normalize_str(s)\n",
    "    output_words = evaluate(s, input_lang, target_lang, encoder1, decoder1)\n",
    "    output_sentence = ' '.join(output_words)\n",
    "    #print ('raw:', pair[0])\n",
    "    #print ('tar:', pair[1])\n",
    "    print ('now:', output_sentence)"
   ]
  },
  {
   "cell_type": "code",
   "execution_count": 21,
   "metadata": {},
   "outputs": [
    {
     "data": {
      "text/plain": [
       "<matplotlib.figure.Figure at 0x7f9cb46db210>"
      ]
     },
     "metadata": {},
     "output_type": "display_data"
    },
    {
     "data": {
      "image/png": "[encoded data removed]",
      "text/plain": [
       "<matplotlib.figure.Figure at 0x7f9cb3f36d90>"
      ]
     },
     "metadata": {},
     "output_type": "display_data"
    }
   ],
   "source": [
    "import matplotlib.pyplot as plt\n",
    "import matplotlib.ticker as ticker\n",
    "import numpy as np\n",
    "%matplotlib inline\n",
    "\n",
    "def show_plot(points):\n",
    "    plt.figure()\n",
    "    fig, ax = plt.subplots()\n",
    "    loc = ticker.MultipleLocator(base=0.2) # put ticks at regular intervals\n",
    "    ax.yaxis.set_major_locator(loc)\n",
    "    plt.plot(points)\n",
    "\n",
    "show_plot(plot_losses)"
   ]
  },
  {
   "cell_type": "code",
   "execution_count": 7,
   "metadata": {
    "collapsed": true
   },
   "outputs": [],
   "source": [
    "output = open('trans_data/data_10000.pkl', 'rb')\n",
    "bak = pickle.load(output)\n",
    "train_en = bak['train_en']\n",
    "train_len_en = bak['train_len_en']\n",
    "train_zh = bak['train_zh']\n",
    "train_len_zh = bak['train_len_zh']\n",
    "output.close()"
   ]
  },
  {
   "cell_type": "code",
   "execution_count": 9,
   "metadata": {},
   "outputs": [
    {
     "name": "stdout",
     "output_type": "stream",
     "text": [
      "<type 'list'>\n",
      "[113, 2438, 6, 747, 87447, 11, 87447, 15676, 17514, 17, 20000, 41, 88, 18581, 3308, 338352]\n"
     ]
    }
   ],
   "source": [
    "print (type(train_en))\n",
    "print (train_en[0])"
   ]
  }
 ],
 "metadata": {
  "kernelspec": {
   "display_name": "Python 2",
   "language": "python",
   "name": "python2"
  },
  "language_info": {
   "codemirror_mode": {
    "name": "ipython",
    "version": 2
   },
   "file_extension": ".py",
   "mimetype": "text/x-python",
   "name": "python",
   "nbconvert_exporter": "python",
   "pygments_lexer": "ipython2",
   "version": "2.7.13"
  }
 },
 "nbformat": 4,
 "nbformat_minor": 2
}
